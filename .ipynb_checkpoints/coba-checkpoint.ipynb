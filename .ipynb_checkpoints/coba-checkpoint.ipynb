{
 "cells": [
  {
   "cell_type": "markdown",
   "metadata": {},
   "source": [
    "## Nama : Yusuf Jordan El Anwar\n",
    "## NPM : 1184026\n",
    "## Kelas D4 TI 3C"
   ]
  },
  {
   "cell_type": "code",
   "execution_count": 2,
   "metadata": {},
   "outputs": [],
   "source": [
    "import numpy as np\n",
    "import matplotlib.pyplot as plt\n",
    "import pandas as pd\n",
    "from apyori import apriori"
   ]
  },
  {
   "cell_type": "code",
   "execution_count": 3,
   "metadata": {},
   "outputs": [],
   "source": [
    "df_1184026 = pd.read_csv('Chapter05DataSet.csv')"
   ]
  },
  {
   "cell_type": "code",
   "execution_count": 4,
   "metadata": {},
   "outputs": [
    {
     "data": {
      "text/html": [
       "<div>\n",
       "<style scoped>\n",
       "    .dataframe tbody tr th:only-of-type {\n",
       "        vertical-align: middle;\n",
       "    }\n",
       "\n",
       "    .dataframe tbody tr th {\n",
       "        vertical-align: top;\n",
       "    }\n",
       "\n",
       "    .dataframe thead th {\n",
       "        text-align: right;\n",
       "    }\n",
       "</style>\n",
       "<table border=\"1\" class=\"dataframe\">\n",
       "  <thead>\n",
       "    <tr style=\"text-align: right;\">\n",
       "      <th></th>\n",
       "      <th>Elapsed_Time</th>\n",
       "      <th>Time_in_Community</th>\n",
       "      <th>Gender</th>\n",
       "      <th>Working</th>\n",
       "      <th>Age</th>\n",
       "      <th>Family</th>\n",
       "      <th>Hobbies</th>\n",
       "      <th>Social_Club</th>\n",
       "      <th>Political</th>\n",
       "      <th>Professional</th>\n",
       "      <th>Religious</th>\n",
       "      <th>Support_Group</th>\n",
       "    </tr>\n",
       "  </thead>\n",
       "  <tbody>\n",
       "    <tr>\n",
       "      <th>0</th>\n",
       "      <td>8.71</td>\n",
       "      <td>Short</td>\n",
       "      <td>M</td>\n",
       "      <td>No</td>\n",
       "      <td>53</td>\n",
       "      <td>1</td>\n",
       "      <td>0</td>\n",
       "      <td>0</td>\n",
       "      <td>0</td>\n",
       "      <td>0</td>\n",
       "      <td>0</td>\n",
       "      <td>0</td>\n",
       "    </tr>\n",
       "    <tr>\n",
       "      <th>1</th>\n",
       "      <td>5.24</td>\n",
       "      <td>Medium</td>\n",
       "      <td>F</td>\n",
       "      <td>No</td>\n",
       "      <td>31</td>\n",
       "      <td>0</td>\n",
       "      <td>0</td>\n",
       "      <td>0</td>\n",
       "      <td>0</td>\n",
       "      <td>0</td>\n",
       "      <td>1</td>\n",
       "      <td>1</td>\n",
       "    </tr>\n",
       "    <tr>\n",
       "      <th>2</th>\n",
       "      <td>4.22</td>\n",
       "      <td>Medium</td>\n",
       "      <td>M</td>\n",
       "      <td>No</td>\n",
       "      <td>42</td>\n",
       "      <td>1</td>\n",
       "      <td>1</td>\n",
       "      <td>0</td>\n",
       "      <td>0</td>\n",
       "      <td>1</td>\n",
       "      <td>0</td>\n",
       "      <td>0</td>\n",
       "    </tr>\n",
       "    <tr>\n",
       "      <th>3</th>\n",
       "      <td>4.81</td>\n",
       "      <td>Long</td>\n",
       "      <td>F</td>\n",
       "      <td>No</td>\n",
       "      <td>30</td>\n",
       "      <td>0</td>\n",
       "      <td>0</td>\n",
       "      <td>0</td>\n",
       "      <td>0</td>\n",
       "      <td>0</td>\n",
       "      <td>0</td>\n",
       "      <td>0</td>\n",
       "    </tr>\n",
       "    <tr>\n",
       "      <th>4</th>\n",
       "      <td>3.95</td>\n",
       "      <td>Long</td>\n",
       "      <td>M</td>\n",
       "      <td>Yes</td>\n",
       "      <td>29</td>\n",
       "      <td>0</td>\n",
       "      <td>0</td>\n",
       "      <td>0</td>\n",
       "      <td>1</td>\n",
       "      <td>1</td>\n",
       "      <td>0</td>\n",
       "      <td>1</td>\n",
       "    </tr>\n",
       "    <tr>\n",
       "      <th>...</th>\n",
       "      <td>...</td>\n",
       "      <td>...</td>\n",
       "      <td>...</td>\n",
       "      <td>...</td>\n",
       "      <td>...</td>\n",
       "      <td>...</td>\n",
       "      <td>...</td>\n",
       "      <td>...</td>\n",
       "      <td>...</td>\n",
       "      <td>...</td>\n",
       "      <td>...</td>\n",
       "      <td>...</td>\n",
       "    </tr>\n",
       "    <tr>\n",
       "      <th>3478</th>\n",
       "      <td>9.00</td>\n",
       "      <td>Long</td>\n",
       "      <td>F</td>\n",
       "      <td>No</td>\n",
       "      <td>51</td>\n",
       "      <td>0</td>\n",
       "      <td>0</td>\n",
       "      <td>0</td>\n",
       "      <td>0</td>\n",
       "      <td>0</td>\n",
       "      <td>0</td>\n",
       "      <td>0</td>\n",
       "    </tr>\n",
       "    <tr>\n",
       "      <th>3479</th>\n",
       "      <td>9.48</td>\n",
       "      <td>Medium</td>\n",
       "      <td>F</td>\n",
       "      <td>Yes</td>\n",
       "      <td>21</td>\n",
       "      <td>0</td>\n",
       "      <td>0</td>\n",
       "      <td>0</td>\n",
       "      <td>0</td>\n",
       "      <td>0</td>\n",
       "      <td>1</td>\n",
       "      <td>0</td>\n",
       "    </tr>\n",
       "    <tr>\n",
       "      <th>3480</th>\n",
       "      <td>8.36</td>\n",
       "      <td>Long</td>\n",
       "      <td>M</td>\n",
       "      <td>No</td>\n",
       "      <td>49</td>\n",
       "      <td>0</td>\n",
       "      <td>1</td>\n",
       "      <td>0</td>\n",
       "      <td>0</td>\n",
       "      <td>0</td>\n",
       "      <td>1</td>\n",
       "      <td>1</td>\n",
       "    </tr>\n",
       "    <tr>\n",
       "      <th>3481</th>\n",
       "      <td>7.34</td>\n",
       "      <td>Long</td>\n",
       "      <td>F</td>\n",
       "      <td>Yes</td>\n",
       "      <td>46</td>\n",
       "      <td>1</td>\n",
       "      <td>1</td>\n",
       "      <td>1</td>\n",
       "      <td>0</td>\n",
       "      <td>1</td>\n",
       "      <td>1</td>\n",
       "      <td>0</td>\n",
       "    </tr>\n",
       "    <tr>\n",
       "      <th>3482</th>\n",
       "      <td>6.47</td>\n",
       "      <td>Long</td>\n",
       "      <td>M</td>\n",
       "      <td>Yes</td>\n",
       "      <td>42</td>\n",
       "      <td>1</td>\n",
       "      <td>0</td>\n",
       "      <td>0</td>\n",
       "      <td>0</td>\n",
       "      <td>1</td>\n",
       "      <td>0</td>\n",
       "      <td>0</td>\n",
       "    </tr>\n",
       "  </tbody>\n",
       "</table>\n",
       "<p>3483 rows × 12 columns</p>\n",
       "</div>"
      ],
      "text/plain": [
       "      Elapsed_Time Time_in_Community Gender Working  Age  Family  Hobbies  \\\n",
       "0             8.71             Short      M      No   53       1        0   \n",
       "1             5.24            Medium      F      No   31       0        0   \n",
       "2             4.22            Medium      M      No   42       1        1   \n",
       "3             4.81              Long      F      No   30       0        0   \n",
       "4             3.95              Long      M     Yes   29       0        0   \n",
       "...            ...               ...    ...     ...  ...     ...      ...   \n",
       "3478          9.00              Long      F      No   51       0        0   \n",
       "3479          9.48            Medium      F     Yes   21       0        0   \n",
       "3480          8.36              Long      M      No   49       0        1   \n",
       "3481          7.34              Long      F     Yes   46       1        1   \n",
       "3482          6.47              Long      M     Yes   42       1        0   \n",
       "\n",
       "      Social_Club  Political  Professional  Religious  Support_Group  \n",
       "0               0          0             0          0              0  \n",
       "1               0          0             0          1              1  \n",
       "2               0          0             1          0              0  \n",
       "3               0          0             0          0              0  \n",
       "4               0          1             1          0              1  \n",
       "...           ...        ...           ...        ...            ...  \n",
       "3478            0          0             0          0              0  \n",
       "3479            0          0             0          1              0  \n",
       "3480            0          0             0          1              1  \n",
       "3481            1          0             1          1              0  \n",
       "3482            0          0             1          0              0  \n",
       "\n",
       "[3483 rows x 12 columns]"
      ]
     },
     "execution_count": 4,
     "metadata": {},
     "output_type": "execute_result"
    }
   ],
   "source": [
    "df_1184026"
   ]
  },
  {
   "cell_type": "markdown",
   "metadata": {},
   "source": [
    "## Mengambil Dataset dengan index 707-807 (Absen No 8)"
   ]
  },
  {
   "cell_type": "code",
   "execution_count": 5,
   "metadata": {},
   "outputs": [],
   "source": [
    "records = []\n",
    "for i in range(707, 807):\n",
    "    records.append([str(df_1184026.values[i,j]) for j in range(0, 12)])"
   ]
  },
  {
   "cell_type": "code",
   "execution_count": 6,
   "metadata": {},
   "outputs": [
    {
     "data": {
      "text/plain": [
       "[['8.01', 'Long', 'M', 'Yes', '19', '1', '0', '0', '0', '0', '0', '0'],\n",
       " ['6.62', 'Short', 'M', 'Yes', '37', '0', '1', '0', '0', '0', '1', '0'],\n",
       " ['5.92', 'Medium', 'M', 'Yes', '28', '0', '0', '0', '0', '0', '0', '0'],\n",
       " ['7.79', 'Long', 'F', 'No', '22', '0', '1', '0', '1', '0', '0', '0'],\n",
       " ['4.06', 'Medium', 'M', 'No', '44', '1', '0', '0', '0', '0', '1', '0'],\n",
       " ['7.03', 'Short', 'F', 'Yes', '51', '0', '0', '0', '0', '0', '0', '0'],\n",
       " ['9.69', 'Long', 'F', 'Yes', '43', '0', '0', '0', '0', '0', '0', '0'],\n",
       " ['6.11', 'Short', 'M', 'Yes', '54', '0', '0', '0', '0', '0', '0', '0'],\n",
       " ['8.95', 'Medium', 'M', 'No', '35', '1', '0', '0', '0', '1', '0', '0'],\n",
       " ['2.8', 'Long', 'F', 'Yes', '47', '1', '0', '1', '0', '0', '1', '0'],\n",
       " ['3.47', 'Long', 'F', 'Yes', '55', '0', '0', '0', '0', '1', '0', '1'],\n",
       " ['8.79', 'Medium', 'F', 'Yes', '36', '0', '0', '0', '0', '1', '0', '0'],\n",
       " ['6.0', 'Long', 'M', 'Yes', '43', '0', '0', '0', '0', '0', '0', '0'],\n",
       " ['5.69', 'Long', 'M', 'Yes', '32', '1', '1', '1', '0', '1', '1', '0'],\n",
       " ['5.72', 'Short', 'F', 'No', '41', '0', '0', '0', '0', '1', '0', '0'],\n",
       " ['7.45', 'Medium', 'M', 'No', '41', '0', '0', '0', '0', '0', '0', '0'],\n",
       " ['7.83', 'Long', 'F', 'Yes', '31', '1', '0', '1', '0', '1', '1', '0'],\n",
       " ['4.62', 'Long', 'M', 'Yes', '48', '0', '1', '0', '1', '0', '1', '0'],\n",
       " ['7.05', 'Medium', 'F', 'Yes', '29', '0', '0', '0', '0', '0', '0', '0'],\n",
       " ['7.59', 'Medium', 'M', 'No', '32', '0', '1', '1', '0', '0', '1', '0'],\n",
       " ['4.45', 'Short', 'M', 'No', '46', '0', '1', '0', '0', '1', '1', '0'],\n",
       " ['7.18', 'Long', 'F', 'No', '50', '0', '0', '0', '0', '1', '0', '0'],\n",
       " ['6.12', 'Medium', 'F', 'No', '55', '0', '1', '0', '0', '1', '0', '0'],\n",
       " ['2.87', 'Long', 'M', 'Yes', '34', '1', '0', '0', '0', '0', '0', '0'],\n",
       " ['7.63', 'Long', 'M', 'No', '19', '0', '1', '0', '0', '0', '1', '0'],\n",
       " ['5.38', 'Short', 'M', 'Yes', '45', '1', '0', '0', '0', '0', '0', '0'],\n",
       " ['2.89', 'Long', 'M', 'Yes', '56', '0', '0', '0', '0', '0', '0', '0'],\n",
       " ['8.19', 'Medium', 'M', 'Yes', '43', '1', '1', '1', '0', '0', '1', '0'],\n",
       " ['3.04', 'Medium', 'M', 'No', '39', '0', '0', '0', '1', '0', '0', '1'],\n",
       " ['8.59', 'Medium', 'F', 'Yes', '49', '0', '0', '0', '0', '0', '0', '0'],\n",
       " ['9.65', 'Short', 'M', 'Yes', '22', '1', '1', '1', '0', '0', '1', '0'],\n",
       " ['6.79', 'Medium', 'F', 'No', '23', '0', '0', '0', '0', '0', '0', '0'],\n",
       " ['8.97', 'Long', 'F', 'No', '44', '0', '0', '1', '0', '0', '1', '0'],\n",
       " ['4.02', 'Medium', 'M', 'No', '34', '0', '0', '0', '0', '0', '1', '0'],\n",
       " ['9.52', 'Short', 'F', 'Yes', '35', '0', '0', '0', '0', '1', '0', '0'],\n",
       " ['5.37', 'Short', 'F', 'No', '17', '0', '0', '0', '0', '0', '0', '0'],\n",
       " ['2.98', 'Long', 'F', 'Yes', '54', '0', '0', '0', '0', '1', '0', '0'],\n",
       " ['7.02', 'Short', 'F', 'No', '34', '1', '0', '0', '0', '0', '0', '0'],\n",
       " ['6.97', 'Short', 'M', 'Yes', '36', '0', '0', '0', '0', '1', '0', '1'],\n",
       " ['8.31', 'Long', 'F', 'No', '39', '0', '0', '0', '0', '0', '0', '0'],\n",
       " ['10.02', 'Medium', 'F', 'Yes', '26', '1', '1', '1', '0', '0', '1', '0'],\n",
       " ['4.0', 'Medium', 'M', 'No', '29', '1', '0', '0', '0', '0', '0', '1'],\n",
       " ['7.7', 'Medium', 'M', 'No', '49', '1', '0', '0', '1', '0', '0', '0'],\n",
       " ['5.19', 'Medium', 'F', 'No', '47', '1', '1', '0', '0', '0', '0', '0'],\n",
       " ['3.01', 'Short', 'M', 'No', '21', '1', '1', '1', '0', '0', '1', '0'],\n",
       " ['3.91', 'Long', 'M', 'Yes', '23', '0', '0', '0', '0', '0', '1', '1'],\n",
       " ['5.97', 'Medium', 'F', 'No', '37', '0', '0', '0', '0', '0', '1', '0'],\n",
       " ['5.21', 'Medium', 'M', 'Yes', '52', '1', '1', '0', '0', '0', '1', '0'],\n",
       " ['4.41', 'Medium', 'M', 'Yes', '29', '0', '0', '0', '0', '1', '0', '0'],\n",
       " ['6.78', 'Medium', 'M', 'No', '41', '0', '0', '0', '0', '0', '0', '0'],\n",
       " ['2.45', 'Long', 'M', 'Yes', '38', '1', '0', '1', '0', '1', '0', '1'],\n",
       " ['5.58', 'Long', 'M', 'No', '42', '1', '0', '0', '0', '0', '0', '0'],\n",
       " ['4.75', 'Medium', 'M', 'No', '50', '0', '0', '0', '0', '0', '0', '0'],\n",
       " ['10.02', 'Medium', 'F', 'Yes', '49', '0', '0', '0', '0', '0', '0', '0'],\n",
       " ['5.73', 'Short', 'F', 'Yes', '53', '0', '0', '0', '0', '0', '0', '0'],\n",
       " ['8.61', 'Long', 'M', 'No', '55', '0', '1', '1', '0', '0', '1', '0'],\n",
       " ['7.98', 'Long', 'M', 'No', '44', '1', '1', '0', '0', '0', '1', '0'],\n",
       " ['5.68', 'Short', 'F', 'No', '41', '0', '0', '0', '0', '1', '1', '0'],\n",
       " ['5.03', 'Medium', 'F', 'No', '25', '0', '0', '0', '0', '1', '1', '0'],\n",
       " ['8.19', 'Medium', 'M', 'No', '50', '0', '0', '0', '0', '1', '0', '0'],\n",
       " ['4.0', 'Long', 'F', 'No', '44', '0', '0', '0', '0', '1', '0', '0'],\n",
       " ['10.0', 'Short', 'M', 'No', '52', '1', '0', '0', '0', '1', '0', '0'],\n",
       " ['6.51', 'Long', 'M', 'No', '29', '0', '0', '0', '0', '0', '1', '0'],\n",
       " ['4.62', 'Long', 'M', 'No', '27', '0', '0', '0', '0', '1', '0', '0'],\n",
       " ['7.8', 'Medium', 'F', 'Yes', '38', '0', '0', '0', '0', '0', '0', '0'],\n",
       " ['5.54', 'Long', 'M', 'No', '29', '1', '1', '1', '0', '0', '1', '0'],\n",
       " ['8.32', 'Medium', 'F', 'No', '45', '0', '0', '0', '0', '0', '1', '0'],\n",
       " ['2.8', 'Long', 'M', 'Yes', '49', '0', '1', '0', '1', '0', '0', '0'],\n",
       " ['9.95', 'Short', 'F', 'No', '33', '0', '1', '0', '0', '0', '1', '0'],\n",
       " ['7.88', 'Medium', 'M', 'Yes', '37', '0', '0', '0', '0', '0', '0', '0'],\n",
       " ['5.04', 'Medium', 'F', 'Yes', '52', '1', '1', '0', '0', '0', '0', '0'],\n",
       " ['3.62', 'Short', 'F', 'Yes', '50', '0', '0', '0', '1', '1', '0', '1'],\n",
       " ['5.51', 'Medium', 'F', 'Yes', '50', '0', '0', '0', '1', '1', '1', '0'],\n",
       " ['9.16', 'Long', 'F', 'Yes', '50', '0', '0', '0', '0', '0', '0', '0'],\n",
       " ['9.38', 'Long', 'F', 'Yes', '50', '0', '0', '0', '0', '0', '0', '0'],\n",
       " ['4.31', 'Short', 'F', 'No', '39', '1', '1', '0', '0', '0', '0', '0'],\n",
       " ['5.4', 'Long', 'M', 'Yes', '40', '0', '0', '0', '0', '0', '0', '0'],\n",
       " ['4.81', 'Medium', 'F', 'No', '28', '0', '0', '0', '0', '0', '1', '0'],\n",
       " ['4.76', 'Medium', 'M', 'Yes', '22', '1', '1', '1', '0', '0', '1', '0'],\n",
       " ['4.63', 'Long', 'M', 'Yes', '28', '1', '1', '1', '0', '0', '0', '0'],\n",
       " ['2.95', 'Long', 'F', 'No', '26', '0', '0', '0', '0', '0', '0', '0'],\n",
       " ['4.03', 'Long', 'F', 'Yes', '52', '0', '0', '0', '0', '1', '0', '0'],\n",
       " ['2.69', 'Short', 'F', 'Yes', '36', '0', '0', '0', '0', '0', '0', '0'],\n",
       " ['6.42', 'Medium', 'M', 'Yes', '29', '0', '0', '1', '0', '1', '1', '0'],\n",
       " ['2.2', 'Medium', 'M', 'Yes', '45', '0', '0', '0', '0', '0', '0', '0'],\n",
       " ['7.76', 'Short', 'F', 'No', '22', '0', '0', '0', '0', '1', '0', '0'],\n",
       " ['2.94', 'Long', 'F', 'Yes', '45', '1', '1', '0', '0', '0', '1', '0'],\n",
       " ['6.27', 'Long', 'F', 'Yes', '45', '1', '0', '0', '0', '0', '0', '0'],\n",
       " ['6.69', 'Long', 'M', 'Yes', '24', '0', '0', '0', '0', '0', '0', '0'],\n",
       " ['8.15', 'Short', 'F', 'Yes', '48', '0', '1', '1', '0', '1', '1', '0'],\n",
       " ['7.54', 'Medium', 'M', 'No', '53', '0', '0', '0', '0', '0', '1', '0'],\n",
       " ['2.47', 'Short', 'M', 'No', '21', '0', '0', '0', '0', '0', '0', '0'],\n",
       " ['3.89', 'Medium', 'M', 'Yes', '35', '1', '1', '1', '1', '1', '1', '1'],\n",
       " ['6.85', 'Short', 'F', 'No', '44', '1', '1', '0', '0', '1', '1', '0'],\n",
       " ['7.57', 'Short', 'F', 'No', '56', '0', '0', '0', '0', '0', '0', '0'],\n",
       " ['5.17', 'Long', 'F', 'Yes', '29', '1', '0', '0', '0', '0', '0', '0'],\n",
       " ['8.61', 'Medium', 'M', 'No', '50', '0', '0', '0', '0', '0', '0', '0'],\n",
       " ['2.34', 'Short', 'M', 'No', '43', '0', '0', '0', '0', '0', '0', '0'],\n",
       " ['3.8', 'Medium', 'M', 'Yes', '29', '0', '0', '0', '1', '1', '1', '1'],\n",
       " ['2.7', 'Medium', 'F', 'Yes', '42', '1', '0', '0', '0', '1', '0', '0']]"
      ]
     },
     "execution_count": 6,
     "metadata": {},
     "output_type": "execute_result"
    }
   ],
   "source": [
    "records"
   ]
  },
  {
   "cell_type": "markdown",
   "metadata": {},
   "source": [
    "## min_support = 0.2"
   ]
  },
  {
   "cell_type": "code",
   "execution_count": 7,
   "metadata": {},
   "outputs": [],
   "source": [
    "association_rules = apriori(records, min_support=0.2)\n",
    "association_results = list(association_rules)"
   ]
  },
  {
   "cell_type": "code",
   "execution_count": 8,
   "metadata": {},
   "outputs": [
    {
     "name": "stdout",
     "output_type": "stream",
     "text": [
      "43\n"
     ]
    }
   ],
   "source": [
    "print(len(association_results))"
   ]
  },
  {
   "cell_type": "code",
   "execution_count": 9,
   "metadata": {},
   "outputs": [
    {
     "data": {
      "text/plain": [
       "[RelationRecord(items=frozenset({'0'}), support=0.99, ordered_statistics=[OrderedStatistic(items_base=frozenset(), items_add=frozenset({'0'}), confidence=0.99, lift=1.0)]),\n",
       " RelationRecord(items=frozenset({'1'}), support=0.71, ordered_statistics=[OrderedStatistic(items_base=frozenset(), items_add=frozenset({'1'}), confidence=0.71, lift=1.0)]),\n",
       " RelationRecord(items=frozenset({'F'}), support=0.48, ordered_statistics=[OrderedStatistic(items_base=frozenset(), items_add=frozenset({'F'}), confidence=0.48, lift=1.0)]),\n",
       " RelationRecord(items=frozenset({'Long'}), support=0.36, ordered_statistics=[OrderedStatistic(items_base=frozenset(), items_add=frozenset({'Long'}), confidence=0.36, lift=1.0)]),\n",
       " RelationRecord(items=frozenset({'M'}), support=0.52, ordered_statistics=[OrderedStatistic(items_base=frozenset(), items_add=frozenset({'M'}), confidence=0.52, lift=1.0)]),\n",
       " RelationRecord(items=frozenset({'Medium'}), support=0.39, ordered_statistics=[OrderedStatistic(items_base=frozenset(), items_add=frozenset({'Medium'}), confidence=0.39, lift=1.0)]),\n",
       " RelationRecord(items=frozenset({'No'}), support=0.47, ordered_statistics=[OrderedStatistic(items_base=frozenset(), items_add=frozenset({'No'}), confidence=0.47, lift=1.0)]),\n",
       " RelationRecord(items=frozenset({'Short'}), support=0.25, ordered_statistics=[OrderedStatistic(items_base=frozenset(), items_add=frozenset({'Short'}), confidence=0.25, lift=1.0)]),\n",
       " RelationRecord(items=frozenset({'Yes'}), support=0.53, ordered_statistics=[OrderedStatistic(items_base=frozenset(), items_add=frozenset({'Yes'}), confidence=0.53, lift=1.0)]),\n",
       " RelationRecord(items=frozenset({'1', '0'}), support=0.7, ordered_statistics=[OrderedStatistic(items_base=frozenset(), items_add=frozenset({'1', '0'}), confidence=0.7, lift=1.0), OrderedStatistic(items_base=frozenset({'0'}), items_add=frozenset({'1'}), confidence=0.7070707070707071, lift=0.9958742353108551), OrderedStatistic(items_base=frozenset({'1'}), items_add=frozenset({'0'}), confidence=0.9859154929577465, lift=0.9958742353108551)]),\n",
       " RelationRecord(items=frozenset({'F', '0'}), support=0.48, ordered_statistics=[OrderedStatistic(items_base=frozenset(), items_add=frozenset({'F', '0'}), confidence=0.48, lift=1.0), OrderedStatistic(items_base=frozenset({'0'}), items_add=frozenset({'F'}), confidence=0.48484848484848486, lift=1.0101010101010102), OrderedStatistic(items_base=frozenset({'F'}), items_add=frozenset({'0'}), confidence=1.0, lift=1.0101010101010102)]),\n",
       " RelationRecord(items=frozenset({'Long', '0'}), support=0.36, ordered_statistics=[OrderedStatistic(items_base=frozenset(), items_add=frozenset({'Long', '0'}), confidence=0.36, lift=1.0), OrderedStatistic(items_base=frozenset({'0'}), items_add=frozenset({'Long'}), confidence=0.36363636363636365, lift=1.0101010101010102), OrderedStatistic(items_base=frozenset({'Long'}), items_add=frozenset({'0'}), confidence=1.0, lift=1.0101010101010102)]),\n",
       " RelationRecord(items=frozenset({'M', '0'}), support=0.51, ordered_statistics=[OrderedStatistic(items_base=frozenset(), items_add=frozenset({'M', '0'}), confidence=0.51, lift=1.0), OrderedStatistic(items_base=frozenset({'0'}), items_add=frozenset({'M'}), confidence=0.5151515151515151, lift=0.9906759906759907), OrderedStatistic(items_base=frozenset({'M'}), items_add=frozenset({'0'}), confidence=0.9807692307692307, lift=0.9906759906759907)]),\n",
       " RelationRecord(items=frozenset({'Medium', '0'}), support=0.38, ordered_statistics=[OrderedStatistic(items_base=frozenset(), items_add=frozenset({'Medium', '0'}), confidence=0.38, lift=1.0), OrderedStatistic(items_base=frozenset({'0'}), items_add=frozenset({'Medium'}), confidence=0.38383838383838387, lift=0.9842009842009842), OrderedStatistic(items_base=frozenset({'Medium'}), items_add=frozenset({'0'}), confidence=0.9743589743589743, lift=0.9842009842009842)]),\n",
       " RelationRecord(items=frozenset({'No', '0'}), support=0.47, ordered_statistics=[OrderedStatistic(items_base=frozenset(), items_add=frozenset({'No', '0'}), confidence=0.47, lift=1.0), OrderedStatistic(items_base=frozenset({'0'}), items_add=frozenset({'No'}), confidence=0.47474747474747475, lift=1.0101010101010102), OrderedStatistic(items_base=frozenset({'No'}), items_add=frozenset({'0'}), confidence=1.0, lift=1.0101010101010102)]),\n",
       " RelationRecord(items=frozenset({'0', 'Short'}), support=0.25, ordered_statistics=[OrderedStatistic(items_base=frozenset(), items_add=frozenset({'0', 'Short'}), confidence=0.25, lift=1.0), OrderedStatistic(items_base=frozenset({'0'}), items_add=frozenset({'Short'}), confidence=0.25252525252525254, lift=1.0101010101010102), OrderedStatistic(items_base=frozenset({'Short'}), items_add=frozenset({'0'}), confidence=1.0, lift=1.0101010101010102)]),\n",
       " RelationRecord(items=frozenset({'Yes', '0'}), support=0.52, ordered_statistics=[OrderedStatistic(items_base=frozenset(), items_add=frozenset({'Yes', '0'}), confidence=0.52, lift=1.0), OrderedStatistic(items_base=frozenset({'0'}), items_add=frozenset({'Yes'}), confidence=0.5252525252525253, lift=0.9910425004764628), OrderedStatistic(items_base=frozenset({'Yes'}), items_add=frozenset({'0'}), confidence=0.9811320754716981, lift=0.9910425004764628)]),\n",
       " RelationRecord(items=frozenset({'F', '1'}), support=0.33, ordered_statistics=[OrderedStatistic(items_base=frozenset(), items_add=frozenset({'F', '1'}), confidence=0.33, lift=1.0), OrderedStatistic(items_base=frozenset({'1'}), items_add=frozenset({'F'}), confidence=0.46478873239436624, lift=0.9683098591549297), OrderedStatistic(items_base=frozenset({'F'}), items_add=frozenset({'1'}), confidence=0.6875000000000001, lift=0.9683098591549297)]),\n",
       " RelationRecord(items=frozenset({'Long', '1'}), support=0.27, ordered_statistics=[OrderedStatistic(items_base=frozenset(), items_add=frozenset({'Long', '1'}), confidence=0.27, lift=1.0), OrderedStatistic(items_base=frozenset({'1'}), items_add=frozenset({'Long'}), confidence=0.3802816901408451, lift=1.0563380281690142), OrderedStatistic(items_base=frozenset({'Long'}), items_add=frozenset({'1'}), confidence=0.7500000000000001, lift=1.0563380281690142)]),\n",
       " RelationRecord(items=frozenset({'M', '1'}), support=0.38, ordered_statistics=[OrderedStatistic(items_base=frozenset(), items_add=frozenset({'M', '1'}), confidence=0.38, lift=1.0), OrderedStatistic(items_base=frozenset({'1'}), items_add=frozenset({'M'}), confidence=0.5352112676056339, lift=1.029252437703142), OrderedStatistic(items_base=frozenset({'M'}), items_add=frozenset({'1'}), confidence=0.7307692307692307, lift=1.029252437703142)]),\n",
       " RelationRecord(items=frozenset({'Medium', '1'}), support=0.27, ordered_statistics=[OrderedStatistic(items_base=frozenset(), items_add=frozenset({'Medium', '1'}), confidence=0.27, lift=1.0), OrderedStatistic(items_base=frozenset({'1'}), items_add=frozenset({'Medium'}), confidence=0.3802816901408451, lift=0.9750812567713977), OrderedStatistic(items_base=frozenset({'Medium'}), items_add=frozenset({'1'}), confidence=0.6923076923076923, lift=0.9750812567713977)]),\n",
       " RelationRecord(items=frozenset({'No', '1'}), support=0.36, ordered_statistics=[OrderedStatistic(items_base=frozenset(), items_add=frozenset({'No', '1'}), confidence=0.36, lift=1.0), OrderedStatistic(items_base=frozenset({'1'}), items_add=frozenset({'No'}), confidence=0.5070422535211268, lift=1.0788133053640996), OrderedStatistic(items_base=frozenset({'No'}), items_add=frozenset({'1'}), confidence=0.7659574468085106, lift=1.0788133053640996)]),\n",
       " RelationRecord(items=frozenset({'Yes', '1'}), support=0.35, ordered_statistics=[OrderedStatistic(items_base=frozenset(), items_add=frozenset({'Yes', '1'}), confidence=0.35, lift=1.0), OrderedStatistic(items_base=frozenset({'1'}), items_add=frozenset({'Yes'}), confidence=0.49295774647887325, lift=0.9301089556205155), OrderedStatistic(items_base=frozenset({'Yes'}), items_add=frozenset({'1'}), confidence=0.660377358490566, lift=0.9301089556205155)]),\n",
       " RelationRecord(items=frozenset({'F', 'No'}), support=0.22, ordered_statistics=[OrderedStatistic(items_base=frozenset(), items_add=frozenset({'F', 'No'}), confidence=0.22, lift=1.0), OrderedStatistic(items_base=frozenset({'F'}), items_add=frozenset({'No'}), confidence=0.45833333333333337, lift=0.9751773049645391), OrderedStatistic(items_base=frozenset({'No'}), items_add=frozenset({'F'}), confidence=0.46808510638297873, lift=0.975177304964539)]),\n",
       " RelationRecord(items=frozenset({'Yes', 'F'}), support=0.26, ordered_statistics=[OrderedStatistic(items_base=frozenset(), items_add=frozenset({'Yes', 'F'}), confidence=0.26, lift=1.0), OrderedStatistic(items_base=frozenset({'F'}), items_add=frozenset({'Yes'}), confidence=0.5416666666666667, lift=1.0220125786163523), OrderedStatistic(items_base=frozenset({'Yes'}), items_add=frozenset({'F'}), confidence=0.49056603773584906, lift=1.0220125786163523)]),\n",
       " RelationRecord(items=frozenset({'Long', 'Yes'}), support=0.23, ordered_statistics=[OrderedStatistic(items_base=frozenset(), items_add=frozenset({'Long', 'Yes'}), confidence=0.23, lift=1.0), OrderedStatistic(items_base=frozenset({'Long'}), items_add=frozenset({'Yes'}), confidence=0.638888888888889, lift=1.2054507337526206), OrderedStatistic(items_base=frozenset({'Yes'}), items_add=frozenset({'Long'}), confidence=0.4339622641509434, lift=1.2054507337526206)]),\n",
       " RelationRecord(items=frozenset({'Medium', 'M'}), support=0.23, ordered_statistics=[OrderedStatistic(items_base=frozenset(), items_add=frozenset({'Medium', 'M'}), confidence=0.23, lift=1.0), OrderedStatistic(items_base=frozenset({'M'}), items_add=frozenset({'Medium'}), confidence=0.4423076923076923, lift=1.1341222879684418), OrderedStatistic(items_base=frozenset({'Medium'}), items_add=frozenset({'M'}), confidence=0.5897435897435898, lift=1.1341222879684418)]),\n",
       " RelationRecord(items=frozenset({'M', 'No'}), support=0.25, ordered_statistics=[OrderedStatistic(items_base=frozenset(), items_add=frozenset({'M', 'No'}), confidence=0.25, lift=1.0), OrderedStatistic(items_base=frozenset({'M'}), items_add=frozenset({'No'}), confidence=0.4807692307692307, lift=1.0229132569558101), OrderedStatistic(items_base=frozenset({'No'}), items_add=frozenset({'M'}), confidence=0.5319148936170213, lift=1.0229132569558101)]),\n",
       " RelationRecord(items=frozenset({'M', 'Yes'}), support=0.27, ordered_statistics=[OrderedStatistic(items_base=frozenset(), items_add=frozenset({'M', 'Yes'}), confidence=0.27, lift=1.0), OrderedStatistic(items_base=frozenset({'M'}), items_add=frozenset({'Yes'}), confidence=0.5192307692307693, lift=0.9796806966618288), OrderedStatistic(items_base=frozenset({'Yes'}), items_add=frozenset({'M'}), confidence=0.5094339622641509, lift=0.9796806966618287)]),\n",
       " RelationRecord(items=frozenset({'Medium', 'No'}), support=0.2, ordered_statistics=[OrderedStatistic(items_base=frozenset(), items_add=frozenset({'Medium', 'No'}), confidence=0.2, lift=1.0), OrderedStatistic(items_base=frozenset({'Medium'}), items_add=frozenset({'No'}), confidence=0.5128205128205129, lift=1.0911074740861977), OrderedStatistic(items_base=frozenset({'No'}), items_add=frozenset({'Medium'}), confidence=0.4255319148936171, lift=1.0911074740861977)]),\n",
       " RelationRecord(items=frozenset({'1', 'F', '0'}), support=0.33, ordered_statistics=[OrderedStatistic(items_base=frozenset(), items_add=frozenset({'F', '1', '0'}), confidence=0.33, lift=1.0), OrderedStatistic(items_base=frozenset({'0'}), items_add=frozenset({'F', '1'}), confidence=0.33333333333333337, lift=1.0101010101010102), OrderedStatistic(items_base=frozenset({'1'}), items_add=frozenset({'F', '0'}), confidence=0.46478873239436624, lift=0.9683098591549297), OrderedStatistic(items_base=frozenset({'F'}), items_add=frozenset({'1', '0'}), confidence=0.6875000000000001, lift=0.9821428571428573), OrderedStatistic(items_base=frozenset({'1', '0'}), items_add=frozenset({'F'}), confidence=0.4714285714285715, lift=0.9821428571428573), OrderedStatistic(items_base=frozenset({'F', '0'}), items_add=frozenset({'1'}), confidence=0.6875000000000001, lift=0.9683098591549297), OrderedStatistic(items_base=frozenset({'F', '1'}), items_add=frozenset({'0'}), confidence=1.0, lift=1.0101010101010102)]),\n",
       " RelationRecord(items=frozenset({'Long', '1', '0'}), support=0.27, ordered_statistics=[OrderedStatistic(items_base=frozenset(), items_add=frozenset({'Long', '1', '0'}), confidence=0.27, lift=1.0), OrderedStatistic(items_base=frozenset({'0'}), items_add=frozenset({'Long', '1'}), confidence=0.27272727272727276, lift=1.0101010101010102), OrderedStatistic(items_base=frozenset({'1'}), items_add=frozenset({'Long', '0'}), confidence=0.3802816901408451, lift=1.0563380281690142), OrderedStatistic(items_base=frozenset({'Long'}), items_add=frozenset({'1', '0'}), confidence=0.7500000000000001, lift=1.0714285714285716), OrderedStatistic(items_base=frozenset({'1', '0'}), items_add=frozenset({'Long'}), confidence=0.3857142857142858, lift=1.0714285714285716), OrderedStatistic(items_base=frozenset({'Long', '0'}), items_add=frozenset({'1'}), confidence=0.7500000000000001, lift=1.0563380281690142), OrderedStatistic(items_base=frozenset({'Long', '1'}), items_add=frozenset({'0'}), confidence=1.0, lift=1.0101010101010102)]),\n",
       " RelationRecord(items=frozenset({'1', '0', 'M'}), support=0.37, ordered_statistics=[OrderedStatistic(items_base=frozenset(), items_add=frozenset({'M', '1', '0'}), confidence=0.37, lift=1.0), OrderedStatistic(items_base=frozenset({'0'}), items_add=frozenset({'M', '1'}), confidence=0.37373737373737376, lift=0.9835194045720362), OrderedStatistic(items_base=frozenset({'1'}), items_add=frozenset({'M', '0'}), confidence=0.5211267605633803, lift=1.0218171775752554), OrderedStatistic(items_base=frozenset({'M'}), items_add=frozenset({'1', '0'}), confidence=0.7115384615384615, lift=1.0164835164835164), OrderedStatistic(items_base=frozenset({'1', '0'}), items_add=frozenset({'M'}), confidence=0.5285714285714286, lift=1.0164835164835164), OrderedStatistic(items_base=frozenset({'M', '0'}), items_add=frozenset({'1'}), confidence=0.7254901960784313, lift=1.0218171775752554), OrderedStatistic(items_base=frozenset({'M', '1'}), items_add=frozenset({'0'}), confidence=0.9736842105263158, lift=0.9835194045720362)]),\n",
       " RelationRecord(items=frozenset({'Medium', '1', '0'}), support=0.26, ordered_statistics=[OrderedStatistic(items_base=frozenset(), items_add=frozenset({'Medium', '1', '0'}), confidence=0.26, lift=1.0), OrderedStatistic(items_base=frozenset({'0'}), items_add=frozenset({'Medium', '1'}), confidence=0.26262626262626265, lift=0.9726898615787505), OrderedStatistic(items_base=frozenset({'1'}), items_add=frozenset({'Medium', '0'}), confidence=0.36619718309859156, lift=0.9636767976278725), OrderedStatistic(items_base=frozenset({'Medium'}), items_add=frozenset({'1', '0'}), confidence=0.6666666666666666, lift=0.9523809523809524), OrderedStatistic(items_base=frozenset({'1', '0'}), items_add=frozenset({'Medium'}), confidence=0.37142857142857144, lift=0.9523809523809523), OrderedStatistic(items_base=frozenset({'Medium', '0'}), items_add=frozenset({'1'}), confidence=0.6842105263157895, lift=0.9636767976278726), OrderedStatistic(items_base=frozenset({'Medium', '1'}), items_add=frozenset({'0'}), confidence=0.9629629629629629, lift=0.9726898615787504)]),\n",
       " RelationRecord(items=frozenset({'1', 'No', '0'}), support=0.36, ordered_statistics=[OrderedStatistic(items_base=frozenset(), items_add=frozenset({'No', '1', '0'}), confidence=0.36, lift=1.0), OrderedStatistic(items_base=frozenset({'0'}), items_add=frozenset({'No', '1'}), confidence=0.36363636363636365, lift=1.0101010101010102), OrderedStatistic(items_base=frozenset({'1'}), items_add=frozenset({'No', '0'}), confidence=0.5070422535211268, lift=1.0788133053640996), OrderedStatistic(items_base=frozenset({'No'}), items_add=frozenset({'1', '0'}), confidence=0.7659574468085106, lift=1.0942249240121582), OrderedStatistic(items_base=frozenset({'1', '0'}), items_add=frozenset({'No'}), confidence=0.5142857142857143, lift=1.0942249240121582), OrderedStatistic(items_base=frozenset({'No', '0'}), items_add=frozenset({'1'}), confidence=0.7659574468085106, lift=1.0788133053640996), OrderedStatistic(items_base=frozenset({'No', '1'}), items_add=frozenset({'0'}), confidence=1.0, lift=1.0101010101010102)]),\n",
       " RelationRecord(items=frozenset({'1', '0', 'Yes'}), support=0.34, ordered_statistics=[OrderedStatistic(items_base=frozenset(), items_add=frozenset({'Yes', '1', '0'}), confidence=0.34, lift=1.0), OrderedStatistic(items_base=frozenset({'0'}), items_add=frozenset({'Yes', '1'}), confidence=0.3434343434343435, lift=0.9812409812409815), OrderedStatistic(items_base=frozenset({'1'}), items_add=frozenset({'Yes', '0'}), confidence=0.4788732394366198, lift=0.9209100758396535), OrderedStatistic(items_base=frozenset({'Yes'}), items_add=frozenset({'1', '0'}), confidence=0.6415094339622641, lift=0.9164420485175202), OrderedStatistic(items_base=frozenset({'1', '0'}), items_add=frozenset({'Yes'}), confidence=0.48571428571428577, lift=0.9164420485175203), OrderedStatistic(items_base=frozenset({'Yes', '0'}), items_add=frozenset({'1'}), confidence=0.6538461538461539, lift=0.9209100758396533), OrderedStatistic(items_base=frozenset({'Yes', '1'}), items_add=frozenset({'0'}), confidence=0.9714285714285715, lift=0.9812409812409814)]),\n",
       " RelationRecord(items=frozenset({'F', '0', 'No'}), support=0.22, ordered_statistics=[OrderedStatistic(items_base=frozenset(), items_add=frozenset({'F', '0', 'No'}), confidence=0.22, lift=1.0), OrderedStatistic(items_base=frozenset({'0'}), items_add=frozenset({'F', 'No'}), confidence=0.22222222222222224, lift=1.0101010101010102), OrderedStatistic(items_base=frozenset({'F'}), items_add=frozenset({'No', '0'}), confidence=0.45833333333333337, lift=0.9751773049645391), OrderedStatistic(items_base=frozenset({'No'}), items_add=frozenset({'F', '0'}), confidence=0.46808510638297873, lift=0.975177304964539), OrderedStatistic(items_base=frozenset({'F', '0'}), items_add=frozenset({'No'}), confidence=0.45833333333333337, lift=0.9751773049645391), OrderedStatistic(items_base=frozenset({'No', '0'}), items_add=frozenset({'F'}), confidence=0.46808510638297873, lift=0.975177304964539), OrderedStatistic(items_base=frozenset({'F', 'No'}), items_add=frozenset({'0'}), confidence=1.0, lift=1.0101010101010102)]),\n",
       " RelationRecord(items=frozenset({'Yes', 'F', '0'}), support=0.26, ordered_statistics=[OrderedStatistic(items_base=frozenset(), items_add=frozenset({'Yes', 'F', '0'}), confidence=0.26, lift=1.0), OrderedStatistic(items_base=frozenset({'0'}), items_add=frozenset({'Yes', 'F'}), confidence=0.26262626262626265, lift=1.0101010101010102), OrderedStatistic(items_base=frozenset({'F'}), items_add=frozenset({'Yes', '0'}), confidence=0.5416666666666667, lift=1.0416666666666667), OrderedStatistic(items_base=frozenset({'Yes'}), items_add=frozenset({'F', '0'}), confidence=0.49056603773584906, lift=1.0220125786163523), OrderedStatistic(items_base=frozenset({'F', '0'}), items_add=frozenset({'Yes'}), confidence=0.5416666666666667, lift=1.0220125786163523), OrderedStatistic(items_base=frozenset({'Yes', '0'}), items_add=frozenset({'F'}), confidence=0.5, lift=1.0416666666666667), OrderedStatistic(items_base=frozenset({'Yes', 'F'}), items_add=frozenset({'0'}), confidence=1.0, lift=1.0101010101010102)]),\n",
       " RelationRecord(items=frozenset({'Long', 'Yes', '0'}), support=0.23, ordered_statistics=[OrderedStatistic(items_base=frozenset(), items_add=frozenset({'Long', 'Yes', '0'}), confidence=0.23, lift=1.0), OrderedStatistic(items_base=frozenset({'0'}), items_add=frozenset({'Long', 'Yes'}), confidence=0.23232323232323235, lift=1.0101010101010102), OrderedStatistic(items_base=frozenset({'Long'}), items_add=frozenset({'Yes', '0'}), confidence=0.638888888888889, lift=1.2286324786324787), OrderedStatistic(items_base=frozenset({'Yes'}), items_add=frozenset({'Long', '0'}), confidence=0.4339622641509434, lift=1.2054507337526206), OrderedStatistic(items_base=frozenset({'Long', '0'}), items_add=frozenset({'Yes'}), confidence=0.638888888888889, lift=1.2054507337526206), OrderedStatistic(items_base=frozenset({'Yes', '0'}), items_add=frozenset({'Long'}), confidence=0.4423076923076923, lift=1.2286324786324787), OrderedStatistic(items_base=frozenset({'Long', 'Yes'}), items_add=frozenset({'0'}), confidence=1.0, lift=1.0101010101010102)]),\n",
       " RelationRecord(items=frozenset({'Medium', 'M', '0'}), support=0.22, ordered_statistics=[OrderedStatistic(items_base=frozenset(), items_add=frozenset({'Medium', 'M', '0'}), confidence=0.22, lift=1.0), OrderedStatistic(items_base=frozenset({'0'}), items_add=frozenset({'Medium', 'M'}), confidence=0.22222222222222224, lift=0.9661835748792271), OrderedStatistic(items_base=frozenset({'M'}), items_add=frozenset({'Medium', '0'}), confidence=0.4230769230769231, lift=1.1133603238866396), OrderedStatistic(items_base=frozenset({'Medium'}), items_add=frozenset({'M', '0'}), confidence=0.5641025641025641, lift=1.1060834590246356), OrderedStatistic(items_base=frozenset({'M', '0'}), items_add=frozenset({'Medium'}), confidence=0.43137254901960786, lift=1.1060834590246356), OrderedStatistic(items_base=frozenset({'Medium', '0'}), items_add=frozenset({'M'}), confidence=0.5789473684210527, lift=1.1133603238866396), OrderedStatistic(items_base=frozenset({'Medium', 'M'}), items_add=frozenset({'0'}), confidence=0.9565217391304347, lift=0.966183574879227)]),\n",
       " RelationRecord(items=frozenset({'M', 'No', '0'}), support=0.25, ordered_statistics=[OrderedStatistic(items_base=frozenset(), items_add=frozenset({'M', 'No', '0'}), confidence=0.25, lift=1.0), OrderedStatistic(items_base=frozenset({'0'}), items_add=frozenset({'M', 'No'}), confidence=0.25252525252525254, lift=1.0101010101010102), OrderedStatistic(items_base=frozenset({'M'}), items_add=frozenset({'No', '0'}), confidence=0.4807692307692307, lift=1.0229132569558101), OrderedStatistic(items_base=frozenset({'No'}), items_add=frozenset({'M', '0'}), confidence=0.5319148936170213, lift=1.0429703796412182), OrderedStatistic(items_base=frozenset({'M', '0'}), items_add=frozenset({'No'}), confidence=0.49019607843137253, lift=1.0429703796412182), OrderedStatistic(items_base=frozenset({'No', '0'}), items_add=frozenset({'M'}), confidence=0.5319148936170213, lift=1.0229132569558101), OrderedStatistic(items_base=frozenset({'M', 'No'}), items_add=frozenset({'0'}), confidence=1.0, lift=1.0101010101010102)]),\n",
       " RelationRecord(items=frozenset({'M', '0', 'Yes'}), support=0.26, ordered_statistics=[OrderedStatistic(items_base=frozenset(), items_add=frozenset({'M', '0', 'Yes'}), confidence=0.26, lift=1.0), OrderedStatistic(items_base=frozenset({'0'}), items_add=frozenset({'M', 'Yes'}), confidence=0.26262626262626265, lift=0.9726898615787505), OrderedStatistic(items_base=frozenset({'M'}), items_add=frozenset({'Yes', '0'}), confidence=0.5, lift=0.9615384615384615), OrderedStatistic(items_base=frozenset({'Yes'}), items_add=frozenset({'M', '0'}), confidence=0.49056603773584906, lift=0.9618941916389198), OrderedStatistic(items_base=frozenset({'M', '0'}), items_add=frozenset({'Yes'}), confidence=0.5098039215686274, lift=0.9618941916389196), OrderedStatistic(items_base=frozenset({'Yes', '0'}), items_add=frozenset({'M'}), confidence=0.5, lift=0.9615384615384615), OrderedStatistic(items_base=frozenset({'M', 'Yes'}), items_add=frozenset({'0'}), confidence=0.9629629629629629, lift=0.9726898615787504)]),\n",
       " RelationRecord(items=frozenset({'Medium', 'No', '0'}), support=0.2, ordered_statistics=[OrderedStatistic(items_base=frozenset(), items_add=frozenset({'Medium', 'No', '0'}), confidence=0.2, lift=1.0), OrderedStatistic(items_base=frozenset({'0'}), items_add=frozenset({'Medium', 'No'}), confidence=0.20202020202020204, lift=1.0101010101010102), OrderedStatistic(items_base=frozenset({'Medium'}), items_add=frozenset({'No', '0'}), confidence=0.5128205128205129, lift=1.0911074740861977), OrderedStatistic(items_base=frozenset({'No'}), items_add=frozenset({'Medium', '0'}), confidence=0.4255319148936171, lift=1.1198208286674134), OrderedStatistic(items_base=frozenset({'Medium', '0'}), items_add=frozenset({'No'}), confidence=0.5263157894736842, lift=1.1198208286674132), OrderedStatistic(items_base=frozenset({'No', '0'}), items_add=frozenset({'Medium'}), confidence=0.4255319148936171, lift=1.0911074740861977), OrderedStatistic(items_base=frozenset({'Medium', 'No'}), items_add=frozenset({'0'}), confidence=1.0, lift=1.0101010101010102)])]"
      ]
     },
     "execution_count": 9,
     "metadata": {},
     "output_type": "execute_result"
    }
   ],
   "source": [
    "association_results"
   ]
  },
  {
   "cell_type": "markdown",
   "metadata": {},
   "source": [
    "## min_support = 0.5"
   ]
  },
  {
   "cell_type": "code",
   "execution_count": 16,
   "metadata": {},
   "outputs": [],
   "source": [
    "association_rules1 = apriori(records, min_support=0.5)\n",
    "association_results1 = list(association_rules1)"
   ]
  },
  {
   "cell_type": "code",
   "execution_count": 17,
   "metadata": {},
   "outputs": [
    {
     "name": "stdout",
     "output_type": "stream",
     "text": [
      "7\n"
     ]
    }
   ],
   "source": [
    "print(len(association_results1))"
   ]
  },
  {
   "cell_type": "code",
   "execution_count": 18,
   "metadata": {},
   "outputs": [
    {
     "data": {
      "text/plain": [
       "[RelationRecord(items=frozenset({'0'}), support=0.99, ordered_statistics=[OrderedStatistic(items_base=frozenset(), items_add=frozenset({'0'}), confidence=0.99, lift=1.0)]),\n",
       " RelationRecord(items=frozenset({'1'}), support=0.71, ordered_statistics=[OrderedStatistic(items_base=frozenset(), items_add=frozenset({'1'}), confidence=0.71, lift=1.0)]),\n",
       " RelationRecord(items=frozenset({'M'}), support=0.52, ordered_statistics=[OrderedStatistic(items_base=frozenset(), items_add=frozenset({'M'}), confidence=0.52, lift=1.0)]),\n",
       " RelationRecord(items=frozenset({'Yes'}), support=0.53, ordered_statistics=[OrderedStatistic(items_base=frozenset(), items_add=frozenset({'Yes'}), confidence=0.53, lift=1.0)]),\n",
       " RelationRecord(items=frozenset({'1', '0'}), support=0.7, ordered_statistics=[OrderedStatistic(items_base=frozenset(), items_add=frozenset({'1', '0'}), confidence=0.7, lift=1.0), OrderedStatistic(items_base=frozenset({'0'}), items_add=frozenset({'1'}), confidence=0.7070707070707071, lift=0.9958742353108551), OrderedStatistic(items_base=frozenset({'1'}), items_add=frozenset({'0'}), confidence=0.9859154929577465, lift=0.9958742353108551)]),\n",
       " RelationRecord(items=frozenset({'M', '0'}), support=0.51, ordered_statistics=[OrderedStatistic(items_base=frozenset(), items_add=frozenset({'M', '0'}), confidence=0.51, lift=1.0), OrderedStatistic(items_base=frozenset({'0'}), items_add=frozenset({'M'}), confidence=0.5151515151515151, lift=0.9906759906759907), OrderedStatistic(items_base=frozenset({'M'}), items_add=frozenset({'0'}), confidence=0.9807692307692307, lift=0.9906759906759907)]),\n",
       " RelationRecord(items=frozenset({'Yes', '0'}), support=0.52, ordered_statistics=[OrderedStatistic(items_base=frozenset(), items_add=frozenset({'Yes', '0'}), confidence=0.52, lift=1.0), OrderedStatistic(items_base=frozenset({'0'}), items_add=frozenset({'Yes'}), confidence=0.5252525252525253, lift=0.9910425004764628), OrderedStatistic(items_base=frozenset({'Yes'}), items_add=frozenset({'0'}), confidence=0.9811320754716981, lift=0.9910425004764628)])]"
      ]
     },
     "execution_count": 18,
     "metadata": {},
     "output_type": "execute_result"
    }
   ],
   "source": [
    "association_results1"
   ]
  },
  {
   "cell_type": "markdown",
   "metadata": {},
   "source": [
    "## min_support=0.8"
   ]
  },
  {
   "cell_type": "code",
   "execution_count": 19,
   "metadata": {},
   "outputs": [],
   "source": [
    "association_rules2 = apriori(records, min_support=0.8)\n",
    "association_results2 = list(association_rules2)"
   ]
  },
  {
   "cell_type": "code",
   "execution_count": 20,
   "metadata": {},
   "outputs": [
    {
     "name": "stdout",
     "output_type": "stream",
     "text": [
      "1\n"
     ]
    }
   ],
   "source": [
    "print(len(association_results2))"
   ]
  },
  {
   "cell_type": "code",
   "execution_count": 21,
   "metadata": {},
   "outputs": [
    {
     "data": {
      "text/plain": [
       "[RelationRecord(items=frozenset({'0'}), support=0.99, ordered_statistics=[OrderedStatistic(items_base=frozenset(), items_add=frozenset({'0'}), confidence=0.99, lift=1.0)])]"
      ]
     },
     "execution_count": 21,
     "metadata": {},
     "output_type": "execute_result"
    }
   ],
   "source": [
    "association_results2"
   ]
  },
  {
   "cell_type": "markdown",
   "metadata": {},
   "source": [
    "## min_confidence=0.5"
   ]
  },
  {
   "cell_type": "code",
   "execution_count": 22,
   "metadata": {},
   "outputs": [],
   "source": [
    "association_rules3 = apriori(records, min_confidence=0.5)\n",
    "association_results3 = list(association_rules2)"
   ]
  },
  {
   "cell_type": "code",
   "execution_count": 23,
   "metadata": {},
   "outputs": [
    {
     "name": "stdout",
     "output_type": "stream",
     "text": [
      "0\n"
     ]
    }
   ],
   "source": [
    "print(len(association_results3))"
   ]
  },
  {
   "cell_type": "markdown",
   "metadata": {},
   "source": [
    "## min_confidence=0.7"
   ]
  },
  {
   "cell_type": "code",
   "execution_count": 24,
   "metadata": {},
   "outputs": [],
   "source": [
    "association_rules4 = apriori(records, min_confidence=0.7)\n",
    "association_results4 = list(association_rules4)"
   ]
  },
  {
   "cell_type": "code",
   "execution_count": 25,
   "metadata": {},
   "outputs": [
    {
     "name": "stdout",
     "output_type": "stream",
     "text": [
      "61\n"
     ]
    }
   ],
   "source": [
    "print(len(association_results4))"
   ]
  },
  {
   "cell_type": "code",
   "execution_count": 26,
   "metadata": {},
   "outputs": [
    {
     "data": {
      "text/plain": [
       "[RelationRecord(items=frozenset({'0'}), support=0.99, ordered_statistics=[OrderedStatistic(items_base=frozenset(), items_add=frozenset({'0'}), confidence=0.99, lift=1.0)]),\n",
       " RelationRecord(items=frozenset({'1'}), support=0.71, ordered_statistics=[OrderedStatistic(items_base=frozenset(), items_add=frozenset({'1'}), confidence=0.71, lift=1.0)]),\n",
       " RelationRecord(items=frozenset({'1', '0'}), support=0.7, ordered_statistics=[OrderedStatistic(items_base=frozenset(), items_add=frozenset({'1', '0'}), confidence=0.7, lift=1.0), OrderedStatistic(items_base=frozenset({'0'}), items_add=frozenset({'1'}), confidence=0.7070707070707071, lift=0.9958742353108551), OrderedStatistic(items_base=frozenset({'1'}), items_add=frozenset({'0'}), confidence=0.9859154929577465, lift=0.9958742353108551)]),\n",
       " RelationRecord(items=frozenset({'F', '0'}), support=0.48, ordered_statistics=[OrderedStatistic(items_base=frozenset({'F'}), items_add=frozenset({'0'}), confidence=1.0, lift=1.0101010101010102)]),\n",
       " RelationRecord(items=frozenset({'Long', '0'}), support=0.36, ordered_statistics=[OrderedStatistic(items_base=frozenset({'Long'}), items_add=frozenset({'0'}), confidence=1.0, lift=1.0101010101010102)]),\n",
       " RelationRecord(items=frozenset({'M', '0'}), support=0.51, ordered_statistics=[OrderedStatistic(items_base=frozenset({'M'}), items_add=frozenset({'0'}), confidence=0.9807692307692307, lift=0.9906759906759907)]),\n",
       " RelationRecord(items=frozenset({'Medium', '0'}), support=0.38, ordered_statistics=[OrderedStatistic(items_base=frozenset({'Medium'}), items_add=frozenset({'0'}), confidence=0.9743589743589743, lift=0.9842009842009842)]),\n",
       " RelationRecord(items=frozenset({'No', '0'}), support=0.47, ordered_statistics=[OrderedStatistic(items_base=frozenset({'No'}), items_add=frozenset({'0'}), confidence=1.0, lift=1.0101010101010102)]),\n",
       " RelationRecord(items=frozenset({'0', 'Short'}), support=0.25, ordered_statistics=[OrderedStatistic(items_base=frozenset({'Short'}), items_add=frozenset({'0'}), confidence=1.0, lift=1.0101010101010102)]),\n",
       " RelationRecord(items=frozenset({'Yes', '0'}), support=0.52, ordered_statistics=[OrderedStatistic(items_base=frozenset({'Yes'}), items_add=frozenset({'0'}), confidence=0.9811320754716981, lift=0.9910425004764628)]),\n",
       " RelationRecord(items=frozenset({'Long', '1'}), support=0.27, ordered_statistics=[OrderedStatistic(items_base=frozenset({'Long'}), items_add=frozenset({'1'}), confidence=0.7500000000000001, lift=1.0563380281690142)]),\n",
       " RelationRecord(items=frozenset({'M', '1'}), support=0.38, ordered_statistics=[OrderedStatistic(items_base=frozenset({'M'}), items_add=frozenset({'1'}), confidence=0.7307692307692307, lift=1.029252437703142)]),\n",
       " RelationRecord(items=frozenset({'No', '1'}), support=0.36, ordered_statistics=[OrderedStatistic(items_base=frozenset({'No'}), items_add=frozenset({'1'}), confidence=0.7659574468085106, lift=1.0788133053640996)]),\n",
       " RelationRecord(items=frozenset({'1', 'F', '0'}), support=0.33, ordered_statistics=[OrderedStatistic(items_base=frozenset({'F', '1'}), items_add=frozenset({'0'}), confidence=1.0, lift=1.0101010101010102)]),\n",
       " RelationRecord(items=frozenset({'Long', '1', '0'}), support=0.27, ordered_statistics=[OrderedStatistic(items_base=frozenset({'Long'}), items_add=frozenset({'1', '0'}), confidence=0.7500000000000001, lift=1.0714285714285716), OrderedStatistic(items_base=frozenset({'Long', '0'}), items_add=frozenset({'1'}), confidence=0.7500000000000001, lift=1.0563380281690142), OrderedStatistic(items_base=frozenset({'Long', '1'}), items_add=frozenset({'0'}), confidence=1.0, lift=1.0101010101010102)]),\n",
       " RelationRecord(items=frozenset({'1', '0', 'M'}), support=0.37, ordered_statistics=[OrderedStatistic(items_base=frozenset({'M'}), items_add=frozenset({'1', '0'}), confidence=0.7115384615384615, lift=1.0164835164835164), OrderedStatistic(items_base=frozenset({'M', '0'}), items_add=frozenset({'1'}), confidence=0.7254901960784313, lift=1.0218171775752554), OrderedStatistic(items_base=frozenset({'M', '1'}), items_add=frozenset({'0'}), confidence=0.9736842105263158, lift=0.9835194045720362)]),\n",
       " RelationRecord(items=frozenset({'Medium', '1', '0'}), support=0.26, ordered_statistics=[OrderedStatistic(items_base=frozenset({'Medium', '1'}), items_add=frozenset({'0'}), confidence=0.9629629629629629, lift=0.9726898615787504)]),\n",
       " RelationRecord(items=frozenset({'1', 'No', '0'}), support=0.36, ordered_statistics=[OrderedStatistic(items_base=frozenset({'No'}), items_add=frozenset({'1', '0'}), confidence=0.7659574468085106, lift=1.0942249240121582), OrderedStatistic(items_base=frozenset({'No', '0'}), items_add=frozenset({'1'}), confidence=0.7659574468085106, lift=1.0788133053640996), OrderedStatistic(items_base=frozenset({'No', '1'}), items_add=frozenset({'0'}), confidence=1.0, lift=1.0101010101010102)]),\n",
       " RelationRecord(items=frozenset({'1', '0', 'Short'}), support=0.17, ordered_statistics=[OrderedStatistic(items_base=frozenset({'1', 'Short'}), items_add=frozenset({'0'}), confidence=1.0, lift=1.0101010101010102)]),\n",
       " RelationRecord(items=frozenset({'1', '0', 'Yes'}), support=0.34, ordered_statistics=[OrderedStatistic(items_base=frozenset({'Yes', '1'}), items_add=frozenset({'0'}), confidence=0.9714285714285715, lift=0.9812409812409814)]),\n",
       " RelationRecord(items=frozenset({'Long', 'F', '0'}), support=0.17, ordered_statistics=[OrderedStatistic(items_base=frozenset({'Long', 'F'}), items_add=frozenset({'0'}), confidence=1.0, lift=1.0101010101010102)]),\n",
       " RelationRecord(items=frozenset({'Medium', 'F', '0'}), support=0.16, ordered_statistics=[OrderedStatistic(items_base=frozenset({'Medium', 'F'}), items_add=frozenset({'0'}), confidence=1.0, lift=1.0101010101010102)]),\n",
       " RelationRecord(items=frozenset({'F', '0', 'No'}), support=0.22, ordered_statistics=[OrderedStatistic(items_base=frozenset({'F', 'No'}), items_add=frozenset({'0'}), confidence=1.0, lift=1.0101010101010102)]),\n",
       " RelationRecord(items=frozenset({'F', '0', 'Short'}), support=0.15, ordered_statistics=[OrderedStatistic(items_base=frozenset({'F', 'Short'}), items_add=frozenset({'0'}), confidence=1.0, lift=1.0101010101010102)]),\n",
       " RelationRecord(items=frozenset({'Yes', 'F', '0'}), support=0.26, ordered_statistics=[OrderedStatistic(items_base=frozenset({'Yes', 'F'}), items_add=frozenset({'0'}), confidence=1.0, lift=1.0101010101010102)]),\n",
       " RelationRecord(items=frozenset({'Long', 'M', '0'}), support=0.19, ordered_statistics=[OrderedStatistic(items_base=frozenset({'Long', 'M'}), items_add=frozenset({'0'}), confidence=1.0, lift=1.0101010101010102)]),\n",
       " RelationRecord(items=frozenset({'Long', 'No', '0'}), support=0.13, ordered_statistics=[OrderedStatistic(items_base=frozenset({'Long', 'No'}), items_add=frozenset({'0'}), confidence=1.0, lift=1.0101010101010102)]),\n",
       " RelationRecord(items=frozenset({'Long', 'Yes', '0'}), support=0.23, ordered_statistics=[OrderedStatistic(items_base=frozenset({'Long', 'Yes'}), items_add=frozenset({'0'}), confidence=1.0, lift=1.0101010101010102)]),\n",
       " RelationRecord(items=frozenset({'Medium', 'M', '0'}), support=0.22, ordered_statistics=[OrderedStatistic(items_base=frozenset({'Medium', 'M'}), items_add=frozenset({'0'}), confidence=0.9565217391304347, lift=0.966183574879227)]),\n",
       " RelationRecord(items=frozenset({'M', 'No', '0'}), support=0.25, ordered_statistics=[OrderedStatistic(items_base=frozenset({'M', 'No'}), items_add=frozenset({'0'}), confidence=1.0, lift=1.0101010101010102)]),\n",
       " RelationRecord(items=frozenset({'M', '0', 'Short'}), support=0.1, ordered_statistics=[OrderedStatistic(items_base=frozenset({'M', 'Short'}), items_add=frozenset({'0'}), confidence=1.0, lift=1.0101010101010102)]),\n",
       " RelationRecord(items=frozenset({'M', '0', 'Yes'}), support=0.26, ordered_statistics=[OrderedStatistic(items_base=frozenset({'M', 'Yes'}), items_add=frozenset({'0'}), confidence=0.9629629629629629, lift=0.9726898615787504)]),\n",
       " RelationRecord(items=frozenset({'Medium', 'No', '0'}), support=0.2, ordered_statistics=[OrderedStatistic(items_base=frozenset({'Medium', 'No'}), items_add=frozenset({'0'}), confidence=1.0, lift=1.0101010101010102)]),\n",
       " RelationRecord(items=frozenset({'Medium', 'Yes', '0'}), support=0.18, ordered_statistics=[OrderedStatistic(items_base=frozenset({'Medium', 'Yes'}), items_add=frozenset({'0'}), confidence=0.9473684210526315, lift=0.9569377990430622)]),\n",
       " RelationRecord(items=frozenset({'No', '0', 'Short'}), support=0.14, ordered_statistics=[OrderedStatistic(items_base=frozenset({'No', 'Short'}), items_add=frozenset({'0'}), confidence=1.0, lift=1.0101010101010102)]),\n",
       " RelationRecord(items=frozenset({'Yes', '0', 'Short'}), support=0.11, ordered_statistics=[OrderedStatistic(items_base=frozenset({'Yes', 'Short'}), items_add=frozenset({'0'}), confidence=1.0, lift=1.0101010101010102)]),\n",
       " RelationRecord(items=frozenset({'Long', 'F', '1'}), support=0.12, ordered_statistics=[OrderedStatistic(items_base=frozenset({'Long', 'F'}), items_add=frozenset({'1'}), confidence=0.7058823529411764, lift=0.9942004971002485)]),\n",
       " RelationRecord(items=frozenset({'F', '1', 'No'}), support=0.17, ordered_statistics=[OrderedStatistic(items_base=frozenset({'F', 'No'}), items_add=frozenset({'1'}), confidence=0.7727272727272728, lift=1.088348271446863)]),\n",
       " RelationRecord(items=frozenset({'Long', 'M', '1'}), support=0.15, ordered_statistics=[OrderedStatistic(items_base=frozenset({'Long', 'M'}), items_add=frozenset({'1'}), confidence=0.7894736842105263, lift=1.1119347664936992)]),\n",
       " RelationRecord(items=frozenset({'Long', 'No', '1'}), support=0.11, ordered_statistics=[OrderedStatistic(items_base=frozenset({'Long', 'No'}), items_add=frozenset({'1'}), confidence=0.8461538461538461, lift=1.191765980498375)]),\n",
       " RelationRecord(items=frozenset({'M', 'No', '1'}), support=0.19, ordered_statistics=[OrderedStatistic(items_base=frozenset({'M', 'No'}), items_add=frozenset({'1'}), confidence=0.76, lift=1.0704225352112677)]),\n",
       " RelationRecord(items=frozenset({'M', '1', 'Yes'}), support=0.19, ordered_statistics=[OrderedStatistic(items_base=frozenset({'M', 'Yes'}), items_add=frozenset({'1'}), confidence=0.7037037037037037, lift=0.99113197704747)]),\n",
       " RelationRecord(items=frozenset({'Medium', 'No', '1'}), support=0.15, ordered_statistics=[OrderedStatistic(items_base=frozenset({'Medium', 'No'}), items_add=frozenset({'1'}), confidence=0.7499999999999999, lift=1.056338028169014)]),\n",
       " RelationRecord(items=frozenset({'No', '1', 'Short'}), support=0.1, ordered_statistics=[OrderedStatistic(items_base=frozenset({'No', 'Short'}), items_add=frozenset({'1'}), confidence=0.7142857142857143, lift=1.006036217303823)]),\n",
       " RelationRecord(items=frozenset({'Long', '1', 'F', '0'}), support=0.12, ordered_statistics=[OrderedStatistic(items_base=frozenset({'Long', 'F'}), items_add=frozenset({'1', '0'}), confidence=0.7058823529411764, lift=1.0084033613445378), OrderedStatistic(items_base=frozenset({'Long', 'F', '0'}), items_add=frozenset({'1'}), confidence=0.7058823529411764, lift=0.9942004971002485), OrderedStatistic(items_base=frozenset({'Long', 'F', '1'}), items_add=frozenset({'0'}), confidence=1.0, lift=1.0101010101010102)]),\n",
       " RelationRecord(items=frozenset({'Medium', '1', 'F', '0'}), support=0.11, ordered_statistics=[OrderedStatistic(items_base=frozenset({'Medium', 'F', '1'}), items_add=frozenset({'0'}), confidence=1.0, lift=1.0101010101010102)]),\n",
       " RelationRecord(items=frozenset({'1', 'F', '0', 'No'}), support=0.17, ordered_statistics=[OrderedStatistic(items_base=frozenset({'F', 'No'}), items_add=frozenset({'1', '0'}), confidence=0.7727272727272728, lift=1.1038961038961042), OrderedStatistic(items_base=frozenset({'F', '0', 'No'}), items_add=frozenset({'1'}), confidence=0.7727272727272728, lift=1.088348271446863), OrderedStatistic(items_base=frozenset({'F', '1', 'No'}), items_add=frozenset({'0'}), confidence=1.0, lift=1.0101010101010102)]),\n",
       " RelationRecord(items=frozenset({'1', 'F', '0', 'Short'}), support=0.1, ordered_statistics=[OrderedStatistic(items_base=frozenset({'F', '1', 'Short'}), items_add=frozenset({'0'}), confidence=1.0, lift=1.0101010101010102)]),\n",
       " RelationRecord(items=frozenset({'1', 'F', '0', 'Yes'}), support=0.16, ordered_statistics=[OrderedStatistic(items_base=frozenset({'Yes', 'F', '1'}), items_add=frozenset({'0'}), confidence=1.0, lift=1.0101010101010102)]),\n",
       " RelationRecord(items=frozenset({'Long', '1', '0', 'M'}), support=0.15, ordered_statistics=[OrderedStatistic(items_base=frozenset({'Long', 'M'}), items_add=frozenset({'1', '0'}), confidence=0.7894736842105263, lift=1.1278195488721805), OrderedStatistic(items_base=frozenset({'Long', 'M', '0'}), items_add=frozenset({'1'}), confidence=0.7894736842105263, lift=1.1119347664936992), OrderedStatistic(items_base=frozenset({'Long', 'M', '1'}), items_add=frozenset({'0'}), confidence=1.0, lift=1.0101010101010102)]),\n",
       " RelationRecord(items=frozenset({'Long', '1', 'No', '0'}), support=0.11, ordered_statistics=[OrderedStatistic(items_base=frozenset({'Long', 'No'}), items_add=frozenset({'1', '0'}), confidence=0.8461538461538461, lift=1.208791208791209), OrderedStatistic(items_base=frozenset({'Long', 'No', '0'}), items_add=frozenset({'1'}), confidence=0.8461538461538461, lift=1.191765980498375), OrderedStatistic(items_base=frozenset({'Long', 'No', '1'}), items_add=frozenset({'0'}), confidence=1.0, lift=1.0101010101010102)]),\n",
       " RelationRecord(items=frozenset({'Long', '1', '0', 'Yes'}), support=0.16, ordered_statistics=[OrderedStatistic(items_base=frozenset({'Long', 'Yes', '1'}), items_add=frozenset({'0'}), confidence=1.0, lift=1.0101010101010102)]),\n",
       " RelationRecord(items=frozenset({'Medium', '1', '0', 'M'}), support=0.15, ordered_statistics=[OrderedStatistic(items_base=frozenset({'Medium', 'M', '1'}), items_add=frozenset({'0'}), confidence=0.9375, lift=0.946969696969697)]),\n",
       " RelationRecord(items=frozenset({'1', 'No', '0', 'M'}), support=0.19, ordered_statistics=[OrderedStatistic(items_base=frozenset({'M', 'No'}), items_add=frozenset({'1', '0'}), confidence=0.76, lift=1.0857142857142859), OrderedStatistic(items_base=frozenset({'M', 'No', '0'}), items_add=frozenset({'1'}), confidence=0.76, lift=1.0704225352112677), OrderedStatistic(items_base=frozenset({'M', 'No', '1'}), items_add=frozenset({'0'}), confidence=1.0, lift=1.0101010101010102)]),\n",
       " RelationRecord(items=frozenset({'1', '0', 'Yes', 'M'}), support=0.18, ordered_statistics=[OrderedStatistic(items_base=frozenset({'M', '1', 'Yes'}), items_add=frozenset({'0'}), confidence=0.9473684210526315, lift=0.9569377990430622)]),\n",
       " RelationRecord(items=frozenset({'Medium', '1', 'No', '0'}), support=0.15, ordered_statistics=[OrderedStatistic(items_base=frozenset({'Medium', 'No'}), items_add=frozenset({'1', '0'}), confidence=0.7499999999999999, lift=1.0714285714285714), OrderedStatistic(items_base=frozenset({'Medium', 'No', '0'}), items_add=frozenset({'1'}), confidence=0.7499999999999999, lift=1.056338028169014), OrderedStatistic(items_base=frozenset({'Medium', 'No', '1'}), items_add=frozenset({'0'}), confidence=1.0, lift=1.0101010101010102)]),\n",
       " RelationRecord(items=frozenset({'Medium', '1', '0', 'Yes'}), support=0.11, ordered_statistics=[OrderedStatistic(items_base=frozenset({'Medium', 'Yes', '1'}), items_add=frozenset({'0'}), confidence=0.9166666666666667, lift=0.925925925925926)]),\n",
       " RelationRecord(items=frozenset({'1', 'No', '0', 'Short'}), support=0.1, ordered_statistics=[OrderedStatistic(items_base=frozenset({'No', 'Short'}), items_add=frozenset({'1', '0'}), confidence=0.7142857142857143, lift=1.0204081632653061), OrderedStatistic(items_base=frozenset({'No', '0', 'Short'}), items_add=frozenset({'1'}), confidence=0.7142857142857143, lift=1.006036217303823), OrderedStatistic(items_base=frozenset({'No', '1', 'Short'}), items_add=frozenset({'0'}), confidence=1.0, lift=1.0101010101010102)]),\n",
       " RelationRecord(items=frozenset({'Long', 'Yes', 'F', '0'}), support=0.11, ordered_statistics=[OrderedStatistic(items_base=frozenset({'Long', 'Yes', 'F'}), items_add=frozenset({'0'}), confidence=1.0, lift=1.0101010101010102)]),\n",
       " RelationRecord(items=frozenset({'Long', 'M', '0', 'Yes'}), support=0.12, ordered_statistics=[OrderedStatistic(items_base=frozenset({'Long', 'M', 'Yes'}), items_add=frozenset({'0'}), confidence=1.0, lift=1.0101010101010102)]),\n",
       " RelationRecord(items=frozenset({'Medium', 'M', 'No', '0'}), support=0.13, ordered_statistics=[OrderedStatistic(items_base=frozenset({'Medium', 'M', 'No'}), items_add=frozenset({'0'}), confidence=1.0, lift=1.0101010101010102)])]"
      ]
     },
     "execution_count": 26,
     "metadata": {},
     "output_type": "execute_result"
    }
   ],
   "source": [
    "association_results4"
   ]
  },
  {
   "cell_type": "code",
   "execution_count": null,
   "metadata": {},
   "outputs": [],
   "source": []
  }
 ],
 "metadata": {
  "kernelspec": {
   "display_name": "Python 3",
   "language": "python",
   "name": "python3"
  },
  "language_info": {
   "codemirror_mode": {
    "name": "ipython",
    "version": 3
   },
   "file_extension": ".py",
   "mimetype": "text/x-python",
   "name": "python",
   "nbconvert_exporter": "python",
   "pygments_lexer": "ipython3",
   "version": "3.8.5"
  }
 },
 "nbformat": 4,
 "nbformat_minor": 5
}
