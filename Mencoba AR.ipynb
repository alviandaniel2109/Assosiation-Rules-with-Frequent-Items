{
 "cells": [
  {
   "cell_type": "code",
   "execution_count": 281,
   "metadata": {},
   "outputs": [],
   "source": [
    "import pandas as pd\n",
    "import numpy as np\n",
    "\n",
    "from mlxtend.frequent_patterns import apriori\n",
    "from mlxtend.frequent_patterns import association_rules\n",
    "from apyori import apriori"
   ]
  },
  {
   "cell_type": "code",
   "execution_count": 282,
   "metadata": {},
   "outputs": [
    {
     "data": {
      "text/html": [
       "<div>\n",
       "<style scoped>\n",
       "    .dataframe tbody tr th:only-of-type {\n",
       "        vertical-align: middle;\n",
       "    }\n",
       "\n",
       "    .dataframe tbody tr th {\n",
       "        vertical-align: top;\n",
       "    }\n",
       "\n",
       "    .dataframe thead th {\n",
       "        text-align: right;\n",
       "    }\n",
       "</style>\n",
       "<table border=\"1\" class=\"dataframe\">\n",
       "  <thead>\n",
       "    <tr style=\"text-align: right;\">\n",
       "      <th></th>\n",
       "      <th>Elapsed_Time</th>\n",
       "      <th>Time_in_Community</th>\n",
       "      <th>Gender</th>\n",
       "      <th>Working</th>\n",
       "      <th>Age</th>\n",
       "      <th>Family</th>\n",
       "      <th>Hobbies</th>\n",
       "      <th>Social_Club</th>\n",
       "      <th>Political</th>\n",
       "      <th>Professional</th>\n",
       "      <th>Religious</th>\n",
       "      <th>Support_Group</th>\n",
       "    </tr>\n",
       "  </thead>\n",
       "  <tbody>\n",
       "    <tr>\n",
       "      <th>0</th>\n",
       "      <td>8.71</td>\n",
       "      <td>Short</td>\n",
       "      <td>M</td>\n",
       "      <td>No</td>\n",
       "      <td>53</td>\n",
       "      <td>1</td>\n",
       "      <td>0</td>\n",
       "      <td>0</td>\n",
       "      <td>0</td>\n",
       "      <td>0</td>\n",
       "      <td>0</td>\n",
       "      <td>0</td>\n",
       "    </tr>\n",
       "    <tr>\n",
       "      <th>1</th>\n",
       "      <td>5.24</td>\n",
       "      <td>Medium</td>\n",
       "      <td>F</td>\n",
       "      <td>No</td>\n",
       "      <td>31</td>\n",
       "      <td>0</td>\n",
       "      <td>0</td>\n",
       "      <td>0</td>\n",
       "      <td>0</td>\n",
       "      <td>0</td>\n",
       "      <td>1</td>\n",
       "      <td>1</td>\n",
       "    </tr>\n",
       "    <tr>\n",
       "      <th>2</th>\n",
       "      <td>4.22</td>\n",
       "      <td>Medium</td>\n",
       "      <td>M</td>\n",
       "      <td>No</td>\n",
       "      <td>42</td>\n",
       "      <td>1</td>\n",
       "      <td>1</td>\n",
       "      <td>0</td>\n",
       "      <td>0</td>\n",
       "      <td>1</td>\n",
       "      <td>0</td>\n",
       "      <td>0</td>\n",
       "    </tr>\n",
       "    <tr>\n",
       "      <th>3</th>\n",
       "      <td>4.81</td>\n",
       "      <td>Long</td>\n",
       "      <td>F</td>\n",
       "      <td>No</td>\n",
       "      <td>30</td>\n",
       "      <td>0</td>\n",
       "      <td>0</td>\n",
       "      <td>0</td>\n",
       "      <td>0</td>\n",
       "      <td>0</td>\n",
       "      <td>0</td>\n",
       "      <td>0</td>\n",
       "    </tr>\n",
       "    <tr>\n",
       "      <th>4</th>\n",
       "      <td>3.95</td>\n",
       "      <td>Long</td>\n",
       "      <td>M</td>\n",
       "      <td>Yes</td>\n",
       "      <td>29</td>\n",
       "      <td>0</td>\n",
       "      <td>0</td>\n",
       "      <td>0</td>\n",
       "      <td>1</td>\n",
       "      <td>1</td>\n",
       "      <td>0</td>\n",
       "      <td>1</td>\n",
       "    </tr>\n",
       "  </tbody>\n",
       "</table>\n",
       "</div>"
      ],
      "text/plain": [
       "   Elapsed_Time Time_in_Community Gender Working  Age  Family  Hobbies  \\\n",
       "0          8.71             Short      M      No   53       1        0   \n",
       "1          5.24            Medium      F      No   31       0        0   \n",
       "2          4.22            Medium      M      No   42       1        1   \n",
       "3          4.81              Long      F      No   30       0        0   \n",
       "4          3.95              Long      M     Yes   29       0        0   \n",
       "\n",
       "   Social_Club  Political  Professional  Religious  Support_Group  \n",
       "0            0          0             0          0              0  \n",
       "1            0          0             0          1              1  \n",
       "2            0          0             1          0              0  \n",
       "3            0          0             0          0              0  \n",
       "4            0          1             1          0              1  "
      ]
     },
     "execution_count": 282,
     "metadata": {},
     "output_type": "execute_result"
    }
   ],
   "source": [
    "df_1184077 = pd.read_csv('Chapter05DataSet.csv')\n",
    "df_1184077.head()"
   ]
  },
  {
   "cell_type": "markdown",
   "metadata": {},
   "source": [
    "# Mengambil DataSet Dari 1717 - 1817"
   ]
  },
  {
   "cell_type": "code",
   "execution_count": 283,
   "metadata": {
    "scrolled": true
   },
   "outputs": [
    {
     "data": {
      "text/html": [
       "<div>\n",
       "<style scoped>\n",
       "    .dataframe tbody tr th:only-of-type {\n",
       "        vertical-align: middle;\n",
       "    }\n",
       "\n",
       "    .dataframe tbody tr th {\n",
       "        vertical-align: top;\n",
       "    }\n",
       "\n",
       "    .dataframe thead th {\n",
       "        text-align: right;\n",
       "    }\n",
       "</style>\n",
       "<table border=\"1\" class=\"dataframe\">\n",
       "  <thead>\n",
       "    <tr style=\"text-align: right;\">\n",
       "      <th></th>\n",
       "      <th>Elapsed_Time</th>\n",
       "      <th>Age</th>\n",
       "      <th>Family</th>\n",
       "      <th>Hobbies</th>\n",
       "      <th>Social_Club</th>\n",
       "      <th>Political</th>\n",
       "      <th>Professional</th>\n",
       "      <th>Religious</th>\n",
       "      <th>Support_Group</th>\n",
       "    </tr>\n",
       "  </thead>\n",
       "  <tbody>\n",
       "    <tr>\n",
       "      <th>count</th>\n",
       "      <td>3483.000000</td>\n",
       "      <td>3483.000000</td>\n",
       "      <td>3483.000000</td>\n",
       "      <td>3483.000000</td>\n",
       "      <td>3483.000000</td>\n",
       "      <td>3483.000000</td>\n",
       "      <td>3483.000000</td>\n",
       "      <td>3483.000000</td>\n",
       "      <td>3483.000000</td>\n",
       "    </tr>\n",
       "    <tr>\n",
       "      <th>mean</th>\n",
       "      <td>5.921786</td>\n",
       "      <td>36.730692</td>\n",
       "      <td>0.389894</td>\n",
       "      <td>0.300029</td>\n",
       "      <td>0.188056</td>\n",
       "      <td>0.093885</td>\n",
       "      <td>0.324433</td>\n",
       "      <td>0.418605</td>\n",
       "      <td>0.158771</td>\n",
       "    </tr>\n",
       "    <tr>\n",
       "      <th>std</th>\n",
       "      <td>2.293446</td>\n",
       "      <td>10.646524</td>\n",
       "      <td>0.487796</td>\n",
       "      <td>0.458336</td>\n",
       "      <td>0.390813</td>\n",
       "      <td>0.291710</td>\n",
       "      <td>0.468230</td>\n",
       "      <td>0.493401</td>\n",
       "      <td>0.365515</td>\n",
       "    </tr>\n",
       "    <tr>\n",
       "      <th>min</th>\n",
       "      <td>2.010000</td>\n",
       "      <td>17.000000</td>\n",
       "      <td>0.000000</td>\n",
       "      <td>0.000000</td>\n",
       "      <td>0.000000</td>\n",
       "      <td>0.000000</td>\n",
       "      <td>0.000000</td>\n",
       "      <td>0.000000</td>\n",
       "      <td>0.000000</td>\n",
       "    </tr>\n",
       "    <tr>\n",
       "      <th>25%</th>\n",
       "      <td>3.875000</td>\n",
       "      <td>27.000000</td>\n",
       "      <td>0.000000</td>\n",
       "      <td>0.000000</td>\n",
       "      <td>0.000000</td>\n",
       "      <td>0.000000</td>\n",
       "      <td>0.000000</td>\n",
       "      <td>0.000000</td>\n",
       "      <td>0.000000</td>\n",
       "    </tr>\n",
       "    <tr>\n",
       "      <th>50%</th>\n",
       "      <td>5.930000</td>\n",
       "      <td>36.000000</td>\n",
       "      <td>0.000000</td>\n",
       "      <td>0.000000</td>\n",
       "      <td>0.000000</td>\n",
       "      <td>0.000000</td>\n",
       "      <td>0.000000</td>\n",
       "      <td>0.000000</td>\n",
       "      <td>0.000000</td>\n",
       "    </tr>\n",
       "    <tr>\n",
       "      <th>75%</th>\n",
       "      <td>7.840000</td>\n",
       "      <td>46.000000</td>\n",
       "      <td>1.000000</td>\n",
       "      <td>1.000000</td>\n",
       "      <td>0.000000</td>\n",
       "      <td>0.000000</td>\n",
       "      <td>1.000000</td>\n",
       "      <td>1.000000</td>\n",
       "      <td>0.000000</td>\n",
       "    </tr>\n",
       "    <tr>\n",
       "      <th>max</th>\n",
       "      <td>10.150000</td>\n",
       "      <td>57.000000</td>\n",
       "      <td>1.000000</td>\n",
       "      <td>1.000000</td>\n",
       "      <td>1.000000</td>\n",
       "      <td>1.000000</td>\n",
       "      <td>1.000000</td>\n",
       "      <td>1.000000</td>\n",
       "      <td>1.000000</td>\n",
       "    </tr>\n",
       "  </tbody>\n",
       "</table>\n",
       "</div>"
      ],
      "text/plain": [
       "       Elapsed_Time          Age       Family      Hobbies  Social_Club  \\\n",
       "count   3483.000000  3483.000000  3483.000000  3483.000000  3483.000000   \n",
       "mean       5.921786    36.730692     0.389894     0.300029     0.188056   \n",
       "std        2.293446    10.646524     0.487796     0.458336     0.390813   \n",
       "min        2.010000    17.000000     0.000000     0.000000     0.000000   \n",
       "25%        3.875000    27.000000     0.000000     0.000000     0.000000   \n",
       "50%        5.930000    36.000000     0.000000     0.000000     0.000000   \n",
       "75%        7.840000    46.000000     1.000000     1.000000     0.000000   \n",
       "max       10.150000    57.000000     1.000000     1.000000     1.000000   \n",
       "\n",
       "         Political  Professional    Religious  Support_Group  \n",
       "count  3483.000000   3483.000000  3483.000000    3483.000000  \n",
       "mean      0.093885      0.324433     0.418605       0.158771  \n",
       "std       0.291710      0.468230     0.493401       0.365515  \n",
       "min       0.000000      0.000000     0.000000       0.000000  \n",
       "25%       0.000000      0.000000     0.000000       0.000000  \n",
       "50%       0.000000      0.000000     0.000000       0.000000  \n",
       "75%       0.000000      1.000000     1.000000       0.000000  \n",
       "max       1.000000      1.000000     1.000000       1.000000  "
      ]
     },
     "execution_count": 283,
     "metadata": {},
     "output_type": "execute_result"
    }
   ],
   "source": [
    "df_1184077.describe()"
   ]
  },
  {
   "cell_type": "code",
   "execution_count": 286,
   "metadata": {
    "scrolled": true
   },
   "outputs": [],
   "source": [
    "Buffer = []\n",
    "for i in range(1717, 1817):\n",
    "    Buffer.append([str(df_1184077.values[i,j]) for j in range(0,12)])"
   ]
  },
  {
   "cell_type": "code",
   "execution_count": 289,
   "metadata": {
    "scrolled": true
   },
   "outputs": [
    {
     "data": {
      "text/plain": [
       "[['8.09', 'Long', 'F', 'Yes', '41', '0', '0', '0', '1', '0', '1', '1'],\n",
       " ['4.22', 'Long', 'M', 'No', '23', '1', '1', '0', '0', '0', '1', '0'],\n",
       " ['10.15', 'Medium', 'F', 'No', '25', '1', '1', '1', '0', '1', '1', '1'],\n",
       " ['2.63', 'Long', 'F', 'Yes', '51', '0', '0', '0', '0', '1', '0', '0'],\n",
       " ['7.16', 'Long', 'M', 'No', '39', '1', '1', '0', '0', '0', '1', '0'],\n",
       " ['6.27', 'Long', 'M', 'Yes', '52', '0', '0', '0', '0', '1', '0', '0'],\n",
       " ['3.47', 'Short', 'F', 'Yes', '52', '1', '0', '0', '0', '0', '1', '0'],\n",
       " ['5.83', 'Short', 'M', 'Yes', '20', '0', '0', '1', '0', '1', '0', '0'],\n",
       " ['2.35', 'Long', 'M', 'No', '18', '1', '1', '1', '0', '0', '1', '0'],\n",
       " ['2.57', 'Short', 'M', 'No', '34', '0', '1', '0', '0', '0', '1', '0'],\n",
       " ['3.13', 'Medium', 'F', 'No', '48', '0', '0', '0', '1', '1', '0', '0'],\n",
       " ['7.46', 'Medium', 'F', 'Yes', '30', '0', '0', '0', '0', '0', '1', '0'],\n",
       " ['5.93', 'Long', 'M', 'Yes', '38', '1', '0', '0', '0', '0', '0', '0'],\n",
       " ['9.0', 'Short', 'F', 'Yes', '28', '0', '0', '0', '0', '0', '0', '0'],\n",
       " ['2.86', 'Short', 'M', 'No', '46', '1', '0', '0', '0', '0', '1', '0'],\n",
       " ['4.04', 'Long', 'M', 'Yes', '46', '0', '0', '0', '0', '0', '0', '0'],\n",
       " ['5.13', 'Long', 'F', 'Yes', '25', '0', '0', '0', '0', '0', '0', '0'],\n",
       " ['7.52', 'Short', 'F', 'No', '24', '0', '0', '0', '0', '0', '1', '0'],\n",
       " ['9.35', 'Medium', 'M', 'No', '36', '1', '0', '1', '0', '0', '1', '0'],\n",
       " ['2.85', 'Medium', 'M', 'No', '50', '1', '0', '0', '1', '0', '0', '0'],\n",
       " ['2.52', 'Medium', 'M', 'No', '25', '0', '0', '0', '0', '0', '0', '0'],\n",
       " ['7.07', 'Long', 'F', 'No', '41', '1', '0', '0', '0', '1', '1', '0'],\n",
       " ['3.8', 'Medium', 'F', 'Yes', '23', '0', '0', '0', '0', '1', '0', '1'],\n",
       " ['3.29', 'Medium', 'F', 'No', '52', '1', '1', '1', '0', '0', '1', '0'],\n",
       " ['9.1', 'Long', 'F', 'Yes', '36', '1', '1', '1', '0', '0', '1', '1'],\n",
       " ['3.19', 'Medium', 'F', 'No', '31', '0', '0', '0', '0', '0', '0', '0'],\n",
       " ['5.02', 'Long', 'M', 'No', '54', '0', '1', '0', '0', '0', '1', '0'],\n",
       " ['3.74', 'Short', 'M', 'Yes', '22', '0', '0', '0', '0', '0', '1', '1'],\n",
       " ['8.05', 'Long', 'F', 'Yes', '48', '0', '0', '0', '0', '0', '1', '0'],\n",
       " ['9.67', 'Medium', 'F', 'No', '42', '1', '0', '0', '0', '1', '0', '1'],\n",
       " ['4.26', 'Long', 'F', 'Yes', '22', '1', '0', '0', '0', '0', '0', '0'],\n",
       " ['4.31', 'Long', 'M', 'Yes', '51', '0', '0', '1', '1', '0', '1', '0'],\n",
       " ['2.29', 'Medium', 'M', 'Yes', '33', '0', '0', '0', '0', '0', '0', '0'],\n",
       " ['2.6', 'Long', 'M', 'No', '51', '0', '0', '0', '0', '0', '1', '0'],\n",
       " ['2.43', 'Short', 'M', 'No', '43', '0', '0', '0', '0', '0', '0', '0'],\n",
       " ['2.34', 'Long', 'M', 'Yes', '30', '1', '1', '1', '0', '0', '1', '1'],\n",
       " ['8.8', 'Long', 'M', 'No', '52', '1', '0', '0', '0', '0', '1', '0'],\n",
       " ['3.43', 'Medium', 'F', 'Yes', '43', '0', '0', '0', '1', '0', '0', '0'],\n",
       " ['8.57', 'Long', 'M', 'Yes', '27', '1', '0', '0', '1', '1', '0', '0'],\n",
       " ['8.74', 'Medium', 'F', 'Yes', '40', '1', '0', '0', '0', '0', '0', '0'],\n",
       " ['6.05', 'Medium', 'F', 'Yes', '23', '1', '0', '0', '0', '0', '1', '0'],\n",
       " ['5.22', 'Long', 'M', 'Yes', '27', '0', '0', '0', '0', '0', '0', '0'],\n",
       " ['3.85', 'Short', 'F', 'No', '34', '0', '1', '0', '1', '0', '1', '0'],\n",
       " ['6.74', 'Long', 'F', 'Yes', '44', '0', '0', '0', '0', '0', '0', '1'],\n",
       " ['9.35', 'Long', 'M', 'No', '34', '1', '0', '1', '1', '0', '0', '1'],\n",
       " ['3.29', 'Long', 'M', 'Yes', '51', '0', '0', '0', '0', '0', '0', '0'],\n",
       " ['3.37', 'Medium', 'F', 'Yes', '26', '0', '0', '0', '0', '0', '0', '0'],\n",
       " ['7.35', 'Long', 'M', 'No', '24', '0', '0', '0', '0', '0', '1', '0'],\n",
       " ['2.45', 'Long', 'F', 'No', '33', '0', '0', '0', '0', '0', '0', '0'],\n",
       " ['4.72', 'Medium', 'F', 'No', '42', '1', '0', '1', '0', '1', '1', '0'],\n",
       " ['3.76', 'Short', 'F', 'No', '46', '1', '1', '0', '0', '0', '0', '0'],\n",
       " ['8.6', 'Medium', 'M', 'Yes', '35', '1', '1', '1', '0', '0', '1', '1'],\n",
       " ['7.72', 'Short', 'M', 'No', '26', '1', '0', '0', '0', '0', '0', '0'],\n",
       " ['5.91', 'Medium', 'M', 'No', '48', '0', '0', '0', '0', '0', '1', '0'],\n",
       " ['4.99', 'Medium', 'F', 'No', '27', '0', '1', '0', '0', '0', '0', '1'],\n",
       " ['4.55', 'Long', 'M', 'No', '30', '0', '0', '0', '0', '0', '1', '0'],\n",
       " ['7.97', 'Long', 'M', 'No', '17', '1', '0', '0', '0', '0', '0', '0'],\n",
       " ['6.24', 'Long', 'F', 'Yes', '51', '1', '0', '0', '0', '0', '1', '1'],\n",
       " ['5.5', 'Long', 'M', 'No', '53', '1', '1', '1', '0', '1', '1', '0'],\n",
       " ['5.23', 'Long', 'F', 'No', '24', '0', '0', '1', '0', '0', '0', '0'],\n",
       " ['8.4', 'Long', 'M', 'No', '54', '1', '0', '0', '0', '0', '0', '0'],\n",
       " ['2.46', 'Long', 'M', 'Yes', '21', '0', '0', '0', '0', '1', '0', '0'],\n",
       " ['5.16', 'Medium', 'M', 'Yes', '45', '1', '0', '0', '0', '0', '0', '0'],\n",
       " ['5.03', 'Long', 'F', 'No', '19', '0', '0', '0', '0', '1', '0', '0'],\n",
       " ['8.76', 'Short', 'F', 'Yes', '29', '0', '1', '0', '0', '0', '1', '0'],\n",
       " ['9.53', 'Long', 'M', 'No', '53', '0', '0', '0', '0', '0', '1', '0'],\n",
       " ['4.32', 'Medium', 'F', 'No', '34', '1', '1', '1', '0', '0', '1', '1'],\n",
       " ['4.24', 'Short', 'M', 'No', '49', '1', '1', '1', '0', '0', '1', '0'],\n",
       " ['2.64', 'Long', 'F', 'Yes', '33', '0', '0', '0', '0', '0', '0', '0'],\n",
       " ['4.87', 'Short', 'F', 'No', '41', '1', '0', '0', '0', '0', '0', '0'],\n",
       " ['3.86', 'Medium', 'M', 'No', '23', '0', '1', '0', '1', '1', '1', '0'],\n",
       " ['9.38', 'Long', 'M', 'No', '32', '0', '1', '0', '0', '0', '0', '1'],\n",
       " ['6.14', 'Medium', 'M', 'No', '24', '0', '1', '1', '0', '1', '1', '0'],\n",
       " ['3.72', 'Medium', 'M', 'Yes', '34', '1', '0', '0', '0', '1', '0', '0'],\n",
       " ['4.63', 'Short', 'M', 'Yes', '49', '0', '0', '0', '0', '0', '1', '0'],\n",
       " ['4.42', 'Long', 'F', 'No', '25', '1', '1', '1', '0', '0', '1', '0'],\n",
       " ['9.49', 'Long', 'M', 'No', '26', '0', '0', '0', '0', '0', '0', '0'],\n",
       " ['5.01', 'Long', 'M', 'Yes', '47', '0', '0', '0', '0', '0', '0', '0'],\n",
       " ['6.82', 'Short', 'F', 'No', '44', '1', '0', '0', '0', '0', '0', '1'],\n",
       " ['6.82', 'Medium', 'M', 'Yes', '29', '1', '1', '1', '1', '1', '1', '1'],\n",
       " ['5.98', 'Medium', 'M', 'No', '38', '0', '0', '0', '0', '0', '1', '0'],\n",
       " ['2.4', 'Medium', 'M', 'No', '20', '0', '0', '0', '0', '0', '0', '0'],\n",
       " ['6.08', 'Long', 'M', 'Yes', '29', '0', '0', '0', '0', '0', '0', '0'],\n",
       " ['7.54', 'Long', 'F', 'No', '41', '1', '0', '0', '0', '0', '0', '0'],\n",
       " ['9.7', 'Long', 'M', 'Yes', '28', '0', '0', '0', '0', '1', '0', '0'],\n",
       " ['4.19', 'Short', 'M', 'No', '27', '1', '1', '0', '0', '1', '1', '0'],\n",
       " ['9.65', 'Long', 'F', 'Yes', '22', '0', '0', '0', '0', '1', '0', '0'],\n",
       " ['9.92', 'Short', 'F', 'No', '28', '0', '0', '0', '0', '0', '0', '0'],\n",
       " ['10.04', 'Long', 'M', 'Yes', '27', '0', '0', '0', '1', '0', '0', '1'],\n",
       " ['7.1', 'Long', 'M', 'No', '46', '0', '1', '1', '0', '0', '1', '0'],\n",
       " ['3.32', 'Medium', 'F', 'No', '25', '0', '0', '0', '0', '0', '1', '0'],\n",
       " ['8.78', 'Long', 'M', 'Yes', '30', '0', '0', '0', '0', '1', '0', '0'],\n",
       " ['3.7', 'Short', 'M', 'Yes', '38', '0', '0', '0', '0', '0', '0', '1'],\n",
       " ['2.73', 'Short', 'F', 'No', '44', '1', '0', '0', '0', '0', '1', '0'],\n",
       " ['4.56', 'Long', 'F', 'No', '52', '0', '0', '0', '0', '1', '1', '0'],\n",
       " ['3.48', 'Short', 'M', 'No', '28', '1', '0', '0', '0', '0', '0', '0'],\n",
       " ['5.94', 'Long', 'F', 'No', '40', '1', '1', '0', '0', '0', '1', '0'],\n",
       " ['5.07', 'Long', 'M', 'Yes', '29', '0', '0', '0', '0', '1', '1', '0'],\n",
       " ['2.36', 'Medium', 'F', 'No', '22', '1', '0', '0', '0', '0', '0', '0'],\n",
       " ['8.32', 'Medium', 'M', 'Yes', '27', '0', '1', '0', '0', '0', '0', '0']]"
      ]
     },
     "execution_count": 289,
     "metadata": {},
     "output_type": "execute_result"
    }
   ],
   "source": [
    "Buffer"
   ]
  },
  {
   "cell_type": "markdown",
   "metadata": {},
   "source": [
    "# Min support 0.2"
   ]
  },
  {
   "cell_type": "code",
   "execution_count": 312,
   "metadata": {
    "scrolled": false
   },
   "outputs": [],
   "source": [
    "frequent_itemsets = apriori(Buffer, min_support=0.2, use_colnames=True)\n",
    "frequent_result = list(frequent_itemsets)\n",
    "#untuk melihat hasil min support 0.2 \n",
    "#frequent_result"
   ]
  },
  {
   "cell_type": "code",
   "execution_count": 313,
   "metadata": {},
   "outputs": [
    {
     "data": {
      "text/plain": [
       "49"
      ]
     },
     "execution_count": 313,
     "metadata": {},
     "output_type": "execute_result"
    }
   ],
   "source": [
    "len(frequent_result)"
   ]
  },
  {
   "cell_type": "markdown",
   "metadata": {},
   "source": [
    "# Min support 0.5\n"
   ]
  },
  {
   "cell_type": "code",
   "execution_count": 314,
   "metadata": {},
   "outputs": [
    {
     "data": {
      "text/plain": [
       "[RelationRecord(items=frozenset({'0'}), support=0.99, ordered_statistics=[OrderedStatistic(items_base=frozenset(), items_add=frozenset({'0'}), confidence=0.99, lift=1.0)]),\n",
       " RelationRecord(items=frozenset({'1'}), support=0.83, ordered_statistics=[OrderedStatistic(items_base=frozenset(), items_add=frozenset({'1'}), confidence=0.83, lift=1.0)]),\n",
       " RelationRecord(items=frozenset({'M'}), support=0.56, ordered_statistics=[OrderedStatistic(items_base=frozenset(), items_add=frozenset({'M'}), confidence=0.56, lift=1.0)]),\n",
       " RelationRecord(items=frozenset({'No'}), support=0.56, ordered_statistics=[OrderedStatistic(items_base=frozenset(), items_add=frozenset({'No'}), confidence=0.56, lift=1.0)]),\n",
       " RelationRecord(items=frozenset({'0', '1'}), support=0.82, ordered_statistics=[OrderedStatistic(items_base=frozenset(), items_add=frozenset({'0', '1'}), confidence=0.82, lift=1.0), OrderedStatistic(items_base=frozenset({'0'}), items_add=frozenset({'1'}), confidence=0.8282828282828283, lift=0.9979311184130462), OrderedStatistic(items_base=frozenset({'1'}), items_add=frozenset({'0'}), confidence=0.9879518072289156, lift=0.997931118413046)]),\n",
       " RelationRecord(items=frozenset({'0', 'M'}), support=0.55, ordered_statistics=[OrderedStatistic(items_base=frozenset(), items_add=frozenset({'0', 'M'}), confidence=0.55, lift=1.0), OrderedStatistic(items_base=frozenset({'0'}), items_add=frozenset({'M'}), confidence=0.5555555555555556, lift=0.992063492063492), OrderedStatistic(items_base=frozenset({'M'}), items_add=frozenset({'0'}), confidence=0.9821428571428571, lift=0.992063492063492)]),\n",
       " RelationRecord(items=frozenset({'0', 'No'}), support=0.56, ordered_statistics=[OrderedStatistic(items_base=frozenset(), items_add=frozenset({'0', 'No'}), confidence=0.56, lift=1.0), OrderedStatistic(items_base=frozenset({'0'}), items_add=frozenset({'No'}), confidence=0.5656565656565657, lift=1.0101010101010102), OrderedStatistic(items_base=frozenset({'No'}), items_add=frozenset({'0'}), confidence=1.0, lift=1.0101010101010102)])]"
      ]
     },
     "execution_count": 314,
     "metadata": {},
     "output_type": "execute_result"
    }
   ],
   "source": [
    "frequent_itemsets2 = apriori(Buffer, min_support=0.5, use_colnames=True)\n",
    "frequent_result2 = list(frequent_itemsets2)\n",
    "frequent_result2"
   ]
  },
  {
   "cell_type": "code",
   "execution_count": 315,
   "metadata": {},
   "outputs": [
    {
     "data": {
      "text/plain": [
       "7"
      ]
     },
     "execution_count": 315,
     "metadata": {},
     "output_type": "execute_result"
    }
   ],
   "source": [
    "len(frequent_result2)"
   ]
  },
  {
   "cell_type": "markdown",
   "metadata": {},
   "source": [
    "# Min Support 0.8"
   ]
  },
  {
   "cell_type": "code",
   "execution_count": 317,
   "metadata": {},
   "outputs": [
    {
     "data": {
      "text/plain": [
       "[RelationRecord(items=frozenset({'0'}), support=0.99, ordered_statistics=[OrderedStatistic(items_base=frozenset(), items_add=frozenset({'0'}), confidence=0.99, lift=1.0)]),\n",
       " RelationRecord(items=frozenset({'1'}), support=0.83, ordered_statistics=[OrderedStatistic(items_base=frozenset(), items_add=frozenset({'1'}), confidence=0.83, lift=1.0)]),\n",
       " RelationRecord(items=frozenset({'0', '1'}), support=0.82, ordered_statistics=[OrderedStatistic(items_base=frozenset(), items_add=frozenset({'0', '1'}), confidence=0.82, lift=1.0), OrderedStatistic(items_base=frozenset({'0'}), items_add=frozenset({'1'}), confidence=0.8282828282828283, lift=0.9979311184130462), OrderedStatistic(items_base=frozenset({'1'}), items_add=frozenset({'0'}), confidence=0.9879518072289156, lift=0.997931118413046)])]"
      ]
     },
     "execution_count": 317,
     "metadata": {},
     "output_type": "execute_result"
    }
   ],
   "source": [
    "frequent_itemsets4 = apriori(Buffer, min_support=0.8, use_colnames=True)\n",
    "frequent_result4 = list(frequent_itemsets4)\n",
    "frequent_result4"
   ]
  },
  {
   "cell_type": "code",
   "execution_count": 318,
   "metadata": {},
   "outputs": [
    {
     "data": {
      "text/plain": [
       "3"
      ]
     },
     "execution_count": 318,
     "metadata": {},
     "output_type": "execute_result"
    }
   ],
   "source": [
    "len(frequent_result4)"
   ]
  },
  {
   "cell_type": "markdown",
   "metadata": {},
   "source": [
    "# Min Confidence 0.5"
   ]
  },
  {
   "cell_type": "code",
   "execution_count": 319,
   "metadata": {},
   "outputs": [
    {
     "data": {
      "text/plain": [
       "[RelationRecord(items=frozenset({'0'}), support=0.99, ordered_statistics=[OrderedStatistic(items_base=frozenset(), items_add=frozenset({'0'}), confidence=0.99, lift=1.0)]),\n",
       " RelationRecord(items=frozenset({'1'}), support=0.83, ordered_statistics=[OrderedStatistic(items_base=frozenset(), items_add=frozenset({'1'}), confidence=0.83, lift=1.0)]),\n",
       " RelationRecord(items=frozenset({'M'}), support=0.56, ordered_statistics=[OrderedStatistic(items_base=frozenset(), items_add=frozenset({'M'}), confidence=0.56, lift=1.0)]),\n",
       " RelationRecord(items=frozenset({'No'}), support=0.56, ordered_statistics=[OrderedStatistic(items_base=frozenset(), items_add=frozenset({'No'}), confidence=0.56, lift=1.0)]),\n",
       " RelationRecord(items=frozenset({'0', '1'}), support=0.82, ordered_statistics=[OrderedStatistic(items_base=frozenset(), items_add=frozenset({'0', '1'}), confidence=0.82, lift=1.0), OrderedStatistic(items_base=frozenset({'0'}), items_add=frozenset({'1'}), confidence=0.8282828282828283, lift=0.9979311184130462), OrderedStatistic(items_base=frozenset({'1'}), items_add=frozenset({'0'}), confidence=0.9879518072289156, lift=0.997931118413046)]),\n",
       " RelationRecord(items=frozenset({'F', '0'}), support=0.44, ordered_statistics=[OrderedStatistic(items_base=frozenset({'F'}), items_add=frozenset({'0'}), confidence=1.0, lift=1.0101010101010102)]),\n",
       " RelationRecord(items=frozenset({'0', 'Long'}), support=0.49, ordered_statistics=[OrderedStatistic(items_base=frozenset({'Long'}), items_add=frozenset({'0'}), confidence=1.0, lift=1.0101010101010102)]),\n",
       " RelationRecord(items=frozenset({'0', 'M'}), support=0.55, ordered_statistics=[OrderedStatistic(items_base=frozenset(), items_add=frozenset({'0', 'M'}), confidence=0.55, lift=1.0), OrderedStatistic(items_base=frozenset({'0'}), items_add=frozenset({'M'}), confidence=0.5555555555555556, lift=0.992063492063492), OrderedStatistic(items_base=frozenset({'M'}), items_add=frozenset({'0'}), confidence=0.9821428571428571, lift=0.992063492063492)]),\n",
       " RelationRecord(items=frozenset({'Medium', '0'}), support=0.29, ordered_statistics=[OrderedStatistic(items_base=frozenset({'Medium'}), items_add=frozenset({'0'}), confidence=0.9666666666666667, lift=0.9764309764309764)]),\n",
       " RelationRecord(items=frozenset({'0', 'No'}), support=0.56, ordered_statistics=[OrderedStatistic(items_base=frozenset(), items_add=frozenset({'0', 'No'}), confidence=0.56, lift=1.0), OrderedStatistic(items_base=frozenset({'0'}), items_add=frozenset({'No'}), confidence=0.5656565656565657, lift=1.0101010101010102), OrderedStatistic(items_base=frozenset({'No'}), items_add=frozenset({'0'}), confidence=1.0, lift=1.0101010101010102)]),\n",
       " RelationRecord(items=frozenset({'Short', '0'}), support=0.21, ordered_statistics=[OrderedStatistic(items_base=frozenset({'Short'}), items_add=frozenset({'0'}), confidence=1.0, lift=1.0101010101010102)]),\n",
       " RelationRecord(items=frozenset({'0', 'Yes'}), support=0.43, ordered_statistics=[OrderedStatistic(items_base=frozenset({'Yes'}), items_add=frozenset({'0'}), confidence=0.9772727272727273, lift=0.9871441689623508)]),\n",
       " RelationRecord(items=frozenset({'F', '1'}), support=0.37, ordered_statistics=[OrderedStatistic(items_base=frozenset({'F'}), items_add=frozenset({'1'}), confidence=0.8409090909090909, lift=1.0131434830230013)]),\n",
       " RelationRecord(items=frozenset({'Long', '1'}), support=0.4, ordered_statistics=[OrderedStatistic(items_base=frozenset({'Long'}), items_add=frozenset({'1'}), confidence=0.8163265306122449, lift=0.9835259404966806)]),\n",
       " RelationRecord(items=frozenset({'M', '1'}), support=0.46, ordered_statistics=[OrderedStatistic(items_base=frozenset({'1'}), items_add=frozenset({'M'}), confidence=0.5542168674698795, lift=0.9896729776247848), OrderedStatistic(items_base=frozenset({'M'}), items_add=frozenset({'1'}), confidence=0.8214285714285714, lift=0.9896729776247849)]),\n",
       " RelationRecord(items=frozenset({'Medium', '1'}), support=0.25, ordered_statistics=[OrderedStatistic(items_base=frozenset({'Medium'}), items_add=frozenset({'1'}), confidence=0.8333333333333334, lift=1.0040160642570282)]),\n",
       " RelationRecord(items=frozenset({'No', '1'}), support=0.49, ordered_statistics=[OrderedStatistic(items_base=frozenset({'1'}), items_add=frozenset({'No'}), confidence=0.5903614457831325, lift=1.0542168674698795), OrderedStatistic(items_base=frozenset({'No'}), items_add=frozenset({'1'}), confidence=0.8749999999999999, lift=1.0542168674698795)]),\n",
       " RelationRecord(items=frozenset({'Short', '1'}), support=0.18, ordered_statistics=[OrderedStatistic(items_base=frozenset({'Short'}), items_add=frozenset({'1'}), confidence=0.8571428571428571, lift=1.0327022375215147)]),\n",
       " RelationRecord(items=frozenset({'Yes', '1'}), support=0.34, ordered_statistics=[OrderedStatistic(items_base=frozenset({'Yes'}), items_add=frozenset({'1'}), confidence=0.7727272727272728, lift=0.9309967141292445)]),\n",
       " RelationRecord(items=frozenset({'F', 'Medium'}), support=0.16, ordered_statistics=[OrderedStatistic(items_base=frozenset({'Medium'}), items_add=frozenset({'F'}), confidence=0.5333333333333333, lift=1.2121212121212122)]),\n",
       " RelationRecord(items=frozenset({'F', 'No'}), support=0.25, ordered_statistics=[OrderedStatistic(items_base=frozenset({'F'}), items_add=frozenset({'No'}), confidence=0.5681818181818182, lift=1.0146103896103895)]),\n",
       " RelationRecord(items=frozenset({'Long', 'M'}), support=0.31, ordered_statistics=[OrderedStatistic(items_base=frozenset({'Long'}), items_add=frozenset({'M'}), confidence=0.6326530612244898, lift=1.129737609329446), OrderedStatistic(items_base=frozenset({'M'}), items_add=frozenset({'Long'}), confidence=0.5535714285714285, lift=1.129737609329446)]),\n",
       " RelationRecord(items=frozenset({'Yes', 'Long'}), support=0.25, ordered_statistics=[OrderedStatistic(items_base=frozenset({'Long'}), items_add=frozenset({'Yes'}), confidence=0.5102040816326531, lift=1.1595547309833025), OrderedStatistic(items_base=frozenset({'Yes'}), items_add=frozenset({'Long'}), confidence=0.5681818181818182, lift=1.1595547309833025)]),\n",
       " RelationRecord(items=frozenset({'No', 'M'}), support=0.31, ordered_statistics=[OrderedStatistic(items_base=frozenset({'M'}), items_add=frozenset({'No'}), confidence=0.5535714285714285, lift=0.988520408163265), OrderedStatistic(items_base=frozenset({'No'}), items_add=frozenset({'M'}), confidence=0.5535714285714285, lift=0.988520408163265)]),\n",
       " RelationRecord(items=frozenset({'Short', 'M'}), support=0.11, ordered_statistics=[OrderedStatistic(items_base=frozenset({'Short'}), items_add=frozenset({'M'}), confidence=0.5238095238095238, lift=0.9353741496598639)]),\n",
       " RelationRecord(items=frozenset({'Yes', 'M'}), support=0.25, ordered_statistics=[OrderedStatistic(items_base=frozenset({'Yes'}), items_add=frozenset({'M'}), confidence=0.5681818181818182, lift=1.0146103896103895)]),\n",
       " RelationRecord(items=frozenset({'Medium', 'No'}), support=0.18, ordered_statistics=[OrderedStatistic(items_base=frozenset({'Medium'}), items_add=frozenset({'No'}), confidence=0.6, lift=1.0714285714285714)]),\n",
       " RelationRecord(items=frozenset({'Short', 'No'}), support=0.14, ordered_statistics=[OrderedStatistic(items_base=frozenset({'Short'}), items_add=frozenset({'No'}), confidence=0.6666666666666667, lift=1.1904761904761905)]),\n",
       " RelationRecord(items=frozenset({'F', '0', '1'}), support=0.37, ordered_statistics=[OrderedStatistic(items_base=frozenset({'F'}), items_add=frozenset({'0', '1'}), confidence=0.8409090909090909, lift=1.02549889135255), OrderedStatistic(items_base=frozenset({'F', '0'}), items_add=frozenset({'1'}), confidence=0.8409090909090909, lift=1.0131434830230013), OrderedStatistic(items_base=frozenset({'F', '1'}), items_add=frozenset({'0'}), confidence=1.0, lift=1.0101010101010102)]),\n",
       " RelationRecord(items=frozenset({'0', 'Long', '1'}), support=0.4, ordered_statistics=[OrderedStatistic(items_base=frozenset({'Long'}), items_add=frozenset({'0', '1'}), confidence=0.8163265306122449, lift=0.9955201592832256), OrderedStatistic(items_base=frozenset({'0', 'Long'}), items_add=frozenset({'1'}), confidence=0.8163265306122449, lift=0.9835259404966806), OrderedStatistic(items_base=frozenset({'Long', '1'}), items_add=frozenset({'0'}), confidence=1.0, lift=1.0101010101010102)]),\n",
       " RelationRecord(items=frozenset({'0', 'M', '1'}), support=0.45, ordered_statistics=[OrderedStatistic(items_base=frozenset({'1'}), items_add=frozenset({'0', 'M'}), confidence=0.5421686746987953, lift=0.9857612267250823), OrderedStatistic(items_base=frozenset({'M'}), items_add=frozenset({'0', '1'}), confidence=0.8035714285714285, lift=0.9799651567944251), OrderedStatistic(items_base=frozenset({'0', '1'}), items_add=frozenset({'M'}), confidence=0.5487804878048781, lift=0.9799651567944251), OrderedStatistic(items_base=frozenset({'0', 'M'}), items_add=frozenset({'1'}), confidence=0.8181818181818181, lift=0.9857612267250822), OrderedStatistic(items_base=frozenset({'M', '1'}), items_add=frozenset({'0'}), confidence=0.9782608695652174, lift=0.9881422924901186)]),\n",
       " RelationRecord(items=frozenset({'Medium', '0', '1'}), support=0.24, ordered_statistics=[OrderedStatistic(items_base=frozenset({'Medium'}), items_add=frozenset({'0', '1'}), confidence=0.8, lift=0.9756097560975611), OrderedStatistic(items_base=frozenset({'Medium', '0'}), items_add=frozenset({'1'}), confidence=0.8275862068965517, lift=0.9970918155380142), OrderedStatistic(items_base=frozenset({'Medium', '1'}), items_add=frozenset({'0'}), confidence=0.96, lift=0.9696969696969697)]),\n",
       " RelationRecord(items=frozenset({'0', 'No', '1'}), support=0.49, ordered_statistics=[OrderedStatistic(items_base=frozenset({'1'}), items_add=frozenset({'0', 'No'}), confidence=0.5903614457831325, lift=1.0542168674698795), OrderedStatistic(items_base=frozenset({'No'}), items_add=frozenset({'0', '1'}), confidence=0.8749999999999999, lift=1.0670731707317072), OrderedStatistic(items_base=frozenset({'0', '1'}), items_add=frozenset({'No'}), confidence=0.5975609756097561, lift=1.0670731707317072), OrderedStatistic(items_base=frozenset({'0', 'No'}), items_add=frozenset({'1'}), confidence=0.8749999999999999, lift=1.0542168674698795), OrderedStatistic(items_base=frozenset({'No', '1'}), items_add=frozenset({'0'}), confidence=1.0, lift=1.0101010101010102)]),\n",
       " RelationRecord(items=frozenset({'Short', '0', '1'}), support=0.18, ordered_statistics=[OrderedStatistic(items_base=frozenset({'Short'}), items_add=frozenset({'0', '1'}), confidence=0.8571428571428571, lift=1.0452961672473868), OrderedStatistic(items_base=frozenset({'Short', '0'}), items_add=frozenset({'1'}), confidence=0.8571428571428571, lift=1.0327022375215147), OrderedStatistic(items_base=frozenset({'Short', '1'}), items_add=frozenset({'0'}), confidence=1.0, lift=1.0101010101010102)]),\n",
       " RelationRecord(items=frozenset({'0', 'Yes', '1'}), support=0.33, ordered_statistics=[OrderedStatistic(items_base=frozenset({'Yes'}), items_add=frozenset({'0', '1'}), confidence=0.75, lift=0.9146341463414634), OrderedStatistic(items_base=frozenset({'0', 'Yes'}), items_add=frozenset({'1'}), confidence=0.7674418604651163, lift=0.9246287475483329), OrderedStatistic(items_base=frozenset({'Yes', '1'}), items_add=frozenset({'0'}), confidence=0.9705882352941176, lift=0.9803921568627451)]),\n",
       " RelationRecord(items=frozenset({'F', '0', 'Long'}), support=0.18, ordered_statistics=[OrderedStatistic(items_base=frozenset({'F', 'Long'}), items_add=frozenset({'0'}), confidence=1.0, lift=1.0101010101010102)]),\n",
       " RelationRecord(items=frozenset({'F', 'Medium', '0'}), support=0.16, ordered_statistics=[OrderedStatistic(items_base=frozenset({'Medium'}), items_add=frozenset({'F', '0'}), confidence=0.5333333333333333, lift=1.2121212121212122), OrderedStatistic(items_base=frozenset({'Medium', '0'}), items_add=frozenset({'F'}), confidence=0.5517241379310346, lift=1.253918495297806), OrderedStatistic(items_base=frozenset({'F', 'Medium'}), items_add=frozenset({'0'}), confidence=1.0, lift=1.0101010101010102)]),\n",
       " RelationRecord(items=frozenset({'F', '0', 'No'}), support=0.25, ordered_statistics=[OrderedStatistic(items_base=frozenset({'F'}), items_add=frozenset({'0', 'No'}), confidence=0.5681818181818182, lift=1.0146103896103895), OrderedStatistic(items_base=frozenset({'F', '0'}), items_add=frozenset({'No'}), confidence=0.5681818181818182, lift=1.0146103896103895), OrderedStatistic(items_base=frozenset({'F', 'No'}), items_add=frozenset({'0'}), confidence=1.0, lift=1.0101010101010102)]),\n",
       " RelationRecord(items=frozenset({'F', '0', 'Short'}), support=0.1, ordered_statistics=[OrderedStatistic(items_base=frozenset({'F', 'Short'}), items_add=frozenset({'0'}), confidence=1.0, lift=1.0101010101010102)]),\n",
       " RelationRecord(items=frozenset({'F', '0', 'Yes'}), support=0.19, ordered_statistics=[OrderedStatistic(items_base=frozenset({'F', 'Yes'}), items_add=frozenset({'0'}), confidence=1.0, lift=1.0101010101010102)]),\n",
       " RelationRecord(items=frozenset({'0', 'Long', 'M'}), support=0.31, ordered_statistics=[OrderedStatistic(items_base=frozenset({'Long'}), items_add=frozenset({'0', 'M'}), confidence=0.6326530612244898, lift=1.150278293135436), OrderedStatistic(items_base=frozenset({'M'}), items_add=frozenset({'0', 'Long'}), confidence=0.5535714285714285, lift=1.129737609329446), OrderedStatistic(items_base=frozenset({'0', 'Long'}), items_add=frozenset({'M'}), confidence=0.6326530612244898, lift=1.129737609329446), OrderedStatistic(items_base=frozenset({'0', 'M'}), items_add=frozenset({'Long'}), confidence=0.5636363636363636, lift=1.1502782931354358), OrderedStatistic(items_base=frozenset({'Long', 'M'}), items_add=frozenset({'0'}), confidence=1.0, lift=1.0101010101010102)]),\n",
       " RelationRecord(items=frozenset({'0', 'Long', 'No'}), support=0.24, ordered_statistics=[OrderedStatistic(items_base=frozenset({'Long', 'No'}), items_add=frozenset({'0'}), confidence=1.0, lift=1.0101010101010102)]),\n",
       " RelationRecord(items=frozenset({'Yes', '0', 'Long'}), support=0.25, ordered_statistics=[OrderedStatistic(items_base=frozenset({'Long'}), items_add=frozenset({'0', 'Yes'}), confidence=0.5102040816326531, lift=1.1865211200759374), OrderedStatistic(items_base=frozenset({'Yes'}), items_add=frozenset({'0', 'Long'}), confidence=0.5681818181818182, lift=1.1595547309833025), OrderedStatistic(items_base=frozenset({'0', 'Long'}), items_add=frozenset({'Yes'}), confidence=0.5102040816326531, lift=1.1595547309833025), OrderedStatistic(items_base=frozenset({'0', 'Yes'}), items_add=frozenset({'Long'}), confidence=0.5813953488372093, lift=1.1865211200759374), OrderedStatistic(items_base=frozenset({'Yes', 'Long'}), items_add=frozenset({'0'}), confidence=1.0, lift=1.0101010101010102)]),\n",
       " RelationRecord(items=frozenset({'Medium', '0', 'M'}), support=0.13, ordered_statistics=[OrderedStatistic(items_base=frozenset({'Medium', 'M'}), items_add=frozenset({'0'}), confidence=0.9285714285714285, lift=0.9379509379509379)]),\n",
       " RelationRecord(items=frozenset({'0', 'No', 'M'}), support=0.31, ordered_statistics=[OrderedStatistic(items_base=frozenset({'M'}), items_add=frozenset({'0', 'No'}), confidence=0.5535714285714285, lift=0.988520408163265), OrderedStatistic(items_base=frozenset({'No'}), items_add=frozenset({'0', 'M'}), confidence=0.5535714285714285, lift=1.0064935064935063), OrderedStatistic(items_base=frozenset({'0', 'M'}), items_add=frozenset({'No'}), confidence=0.5636363636363636, lift=1.0064935064935063), OrderedStatistic(items_base=frozenset({'0', 'No'}), items_add=frozenset({'M'}), confidence=0.5535714285714285, lift=0.988520408163265), OrderedStatistic(items_base=frozenset({'No', 'M'}), items_add=frozenset({'0'}), confidence=1.0, lift=1.0101010101010102)]),\n",
       " RelationRecord(items=frozenset({'Short', '0', 'M'}), support=0.11, ordered_statistics=[OrderedStatistic(items_base=frozenset({'Short'}), items_add=frozenset({'0', 'M'}), confidence=0.5238095238095238, lift=0.9523809523809523), OrderedStatistic(items_base=frozenset({'Short', '0'}), items_add=frozenset({'M'}), confidence=0.5238095238095238, lift=0.9353741496598639), OrderedStatistic(items_base=frozenset({'Short', 'M'}), items_add=frozenset({'0'}), confidence=1.0, lift=1.0101010101010102)]),\n",
       " RelationRecord(items=frozenset({'0', 'Yes', 'M'}), support=0.24, ordered_statistics=[OrderedStatistic(items_base=frozenset({'Yes'}), items_add=frozenset({'0', 'M'}), confidence=0.5454545454545454, lift=0.9917355371900825), OrderedStatistic(items_base=frozenset({'0', 'Yes'}), items_add=frozenset({'M'}), confidence=0.5581395348837209, lift=0.9966777408637872), OrderedStatistic(items_base=frozenset({'Yes', 'M'}), items_add=frozenset({'0'}), confidence=0.96, lift=0.9696969696969697)]),\n",
       " RelationRecord(items=frozenset({'Medium', '0', 'No'}), support=0.18, ordered_statistics=[OrderedStatistic(items_base=frozenset({'Medium'}), items_add=frozenset({'0', 'No'}), confidence=0.6, lift=1.0714285714285714), OrderedStatistic(items_base=frozenset({'Medium', '0'}), items_add=frozenset({'No'}), confidence=0.6206896551724138, lift=1.108374384236453), OrderedStatistic(items_base=frozenset({'Medium', 'No'}), items_add=frozenset({'0'}), confidence=1.0, lift=1.0101010101010102)]),\n",
       " RelationRecord(items=frozenset({'Medium', '0', 'Yes'}), support=0.11, ordered_statistics=[OrderedStatistic(items_base=frozenset({'Medium', 'Yes'}), items_add=frozenset({'0'}), confidence=0.9166666666666667, lift=0.925925925925926)]),\n",
       " RelationRecord(items=frozenset({'Short', '0', 'No'}), support=0.14, ordered_statistics=[OrderedStatistic(items_base=frozenset({'Short'}), items_add=frozenset({'0', 'No'}), confidence=0.6666666666666667, lift=1.1904761904761905), OrderedStatistic(items_base=frozenset({'Short', '0'}), items_add=frozenset({'No'}), confidence=0.6666666666666667, lift=1.1904761904761905), OrderedStatistic(items_base=frozenset({'Short', 'No'}), items_add=frozenset({'0'}), confidence=1.0, lift=1.0101010101010102)]),\n",
       " RelationRecord(items=frozenset({'F', 'Long', '1'}), support=0.15, ordered_statistics=[OrderedStatistic(items_base=frozenset({'F', 'Long'}), items_add=frozenset({'1'}), confidence=0.8333333333333334, lift=1.0040160642570282)]),\n",
       " RelationRecord(items=frozenset({'F', 'Medium', '1'}), support=0.14, ordered_statistics=[OrderedStatistic(items_base=frozenset({'Medium', '1'}), items_add=frozenset({'F'}), confidence=0.56, lift=1.272727272727273), OrderedStatistic(items_base=frozenset({'F', 'Medium'}), items_add=frozenset({'1'}), confidence=0.8750000000000001, lift=1.0542168674698797)]),\n",
       " RelationRecord(items=frozenset({'F', 'No', '1'}), support=0.22, ordered_statistics=[OrderedStatistic(items_base=frozenset({'F'}), items_add=frozenset({'No', '1'}), confidence=0.5, lift=1.0204081632653061), OrderedStatistic(items_base=frozenset({'F', '1'}), items_add=frozenset({'No'}), confidence=0.5945945945945946, lift=1.0617760617760617), OrderedStatistic(items_base=frozenset({'F', 'No'}), items_add=frozenset({'1'}), confidence=0.88, lift=1.0602409638554218)]),\n",
       " RelationRecord(items=frozenset({'F', 'Yes', '1'}), support=0.15, ordered_statistics=[OrderedStatistic(items_base=frozenset({'F', 'Yes'}), items_add=frozenset({'1'}), confidence=0.7894736842105263, lift=0.9511731135066582)]),\n",
       " RelationRecord(items=frozenset({'Long', 'M', '1'}), support=0.25, ordered_statistics=[OrderedStatistic(items_base=frozenset({'Long'}), items_add=frozenset({'M', '1'}), confidence=0.5102040816326531, lift=1.109139307897072), OrderedStatistic(items_base=frozenset({'Long', '1'}), items_add=frozenset({'M'}), confidence=0.625, lift=1.1160714285714284), OrderedStatistic(items_base=frozenset({'M', '1'}), items_add=frozenset({'Long'}), confidence=0.5434782608695652, lift=1.109139307897072), OrderedStatistic(items_base=frozenset({'Long', 'M'}), items_add=frozenset({'1'}), confidence=0.8064516129032259, lift=0.9716284492809951)]),\n",
       " RelationRecord(items=frozenset({'Long', 'No', '1'}), support=0.22, ordered_statistics=[OrderedStatistic(items_base=frozenset({'Long', '1'}), items_add=frozenset({'No'}), confidence=0.5499999999999999, lift=0.982142857142857), OrderedStatistic(items_base=frozenset({'Long', 'No'}), items_add=frozenset({'1'}), confidence=0.9166666666666667, lift=1.1044176706827311)]),\n",
       " RelationRecord(items=frozenset({'Yes', 'Long', '1'}), support=0.18, ordered_statistics=[OrderedStatistic(items_base=frozenset({'Yes', '1'}), items_add=frozenset({'Long'}), confidence=0.5294117647058822, lift=1.0804321728691475), OrderedStatistic(items_base=frozenset({'Yes', 'Long'}), items_add=frozenset({'1'}), confidence=0.72, lift=0.8674698795180723)]),\n",
       " RelationRecord(items=frozenset({'Medium', 'M', '1'}), support=0.11, ordered_statistics=[OrderedStatistic(items_base=frozenset({'Medium', 'M'}), items_add=frozenset({'1'}), confidence=0.7857142857142857, lift=0.9466437177280551)]),\n",
       " RelationRecord(items=frozenset({'No', 'M', '1'}), support=0.27, ordered_statistics=[OrderedStatistic(items_base=frozenset({'M', '1'}), items_add=frozenset({'No'}), confidence=0.5869565217391305, lift=1.0481366459627328), OrderedStatistic(items_base=frozenset({'No', '1'}), items_add=frozenset({'M'}), confidence=0.5510204081632654, lift=0.9839650145772595), OrderedStatistic(items_base=frozenset({'No', 'M'}), items_add=frozenset({'1'}), confidence=0.870967741935484, lift=1.0493587252234748)]),\n",
       " RelationRecord(items=frozenset({'Short', 'M', '1'}), support=0.1, ordered_statistics=[OrderedStatistic(items_base=frozenset({'Short', '1'}), items_add=frozenset({'M'}), confidence=0.5555555555555556, lift=0.992063492063492), OrderedStatistic(items_base=frozenset({'Short', 'M'}), items_add=frozenset({'1'}), confidence=0.9090909090909092, lift=1.095290251916758)]),\n",
       " RelationRecord(items=frozenset({'Yes', 'M', '1'}), support=0.19, ordered_statistics=[OrderedStatistic(items_base=frozenset({'Yes', '1'}), items_add=frozenset({'M'}), confidence=0.5588235294117647, lift=0.9978991596638654), OrderedStatistic(items_base=frozenset({'Yes', 'M'}), items_add=frozenset({'1'}), confidence=0.76, lift=0.9156626506024097)]),\n",
       " RelationRecord(items=frozenset({'Medium', 'No', '1'}), support=0.15, ordered_statistics=[OrderedStatistic(items_base=frozenset({'Medium'}), items_add=frozenset({'No', '1'}), confidence=0.5, lift=1.0204081632653061), OrderedStatistic(items_base=frozenset({'Medium', '1'}), items_add=frozenset({'No'}), confidence=0.6, lift=1.0714285714285714), OrderedStatistic(items_base=frozenset({'Medium', 'No'}), items_add=frozenset({'1'}), confidence=0.8333333333333334, lift=1.0040160642570282)]),\n",
       " RelationRecord(items=frozenset({'Medium', 'Yes', '1'}), support=0.1, ordered_statistics=[OrderedStatistic(items_base=frozenset({'Medium', 'Yes'}), items_add=frozenset({'1'}), confidence=0.8333333333333334, lift=1.0040160642570282)]),\n",
       " RelationRecord(items=frozenset({'Short', 'No', '1'}), support=0.12, ordered_statistics=[OrderedStatistic(items_base=frozenset({'Short'}), items_add=frozenset({'No', '1'}), confidence=0.5714285714285714, lift=1.1661807580174928), OrderedStatistic(items_base=frozenset({'Short', '1'}), items_add=frozenset({'No'}), confidence=0.6666666666666666, lift=1.1904761904761902), OrderedStatistic(items_base=frozenset({'Short', 'No'}), items_add=frozenset({'1'}), confidence=0.857142857142857, lift=1.0327022375215145)]),\n",
       " RelationRecord(items=frozenset({'F', 'Yes', 'Long'}), support=0.1, ordered_statistics=[OrderedStatistic(items_base=frozenset({'F', 'Long'}), items_add=frozenset({'Yes'}), confidence=0.5555555555555556, lift=1.2626262626262628), OrderedStatistic(items_base=frozenset({'F', 'Yes'}), items_add=frozenset({'Long'}), confidence=0.5263157894736842, lift=1.0741138560687433)]),\n",
       " RelationRecord(items=frozenset({'F', 'Medium', 'No'}), support=0.1, ordered_statistics=[OrderedStatistic(items_base=frozenset({'F', 'Medium'}), items_add=frozenset({'No'}), confidence=0.625, lift=1.1160714285714284), OrderedStatistic(items_base=frozenset({'Medium', 'No'}), items_add=frozenset({'F'}), confidence=0.5555555555555556, lift=1.2626262626262628)]),\n",
       " RelationRecord(items=frozenset({'No', 'Long', 'M'}), support=0.16, ordered_statistics=[OrderedStatistic(items_base=frozenset({'Long', 'M'}), items_add=frozenset({'No'}), confidence=0.5161290322580645, lift=0.9216589861751151), OrderedStatistic(items_base=frozenset({'Long', 'No'}), items_add=frozenset({'M'}), confidence=0.6666666666666667, lift=1.1904761904761905), OrderedStatistic(items_base=frozenset({'No', 'M'}), items_add=frozenset({'Long'}), confidence=0.5161290322580645, lift=1.053324555628703)]),\n",
       " RelationRecord(items=frozenset({'Yes', 'Long', 'M'}), support=0.15, ordered_statistics=[OrderedStatistic(items_base=frozenset({'Yes', 'Long'}), items_add=frozenset({'M'}), confidence=0.6, lift=1.0714285714285714), OrderedStatistic(items_base=frozenset({'Yes', 'M'}), items_add=frozenset({'Long'}), confidence=0.6, lift=1.2244897959183674)]),\n",
       " RelationRecord(items=frozenset({'F', '0', 'Long', '1'}), support=0.15, ordered_statistics=[OrderedStatistic(items_base=frozenset({'F', 'Long'}), items_add=frozenset({'0', '1'}), confidence=0.8333333333333334, lift=1.016260162601626), OrderedStatistic(items_base=frozenset({'F', '0', 'Long'}), items_add=frozenset({'1'}), confidence=0.8333333333333334, lift=1.0040160642570282), OrderedStatistic(items_base=frozenset({'F', 'Long', '1'}), items_add=frozenset({'0'}), confidence=1.0, lift=1.0101010101010102)]),\n",
       " RelationRecord(items=frozenset({'F', 'Medium', '0', '1'}), support=0.14, ordered_statistics=[OrderedStatistic(items_base=frozenset({'Medium', '1'}), items_add=frozenset({'F', '0'}), confidence=0.56, lift=1.272727272727273), OrderedStatistic(items_base=frozenset({'F', 'Medium'}), items_add=frozenset({'0', '1'}), confidence=0.8750000000000001, lift=1.0670731707317076), OrderedStatistic(items_base=frozenset({'Medium', '0', '1'}), items_add=frozenset({'F'}), confidence=0.5833333333333334, lift=1.325757575757576), OrderedStatistic(items_base=frozenset({'F', 'Medium', '0'}), items_add=frozenset({'1'}), confidence=0.8750000000000001, lift=1.0542168674698797), OrderedStatistic(items_base=frozenset({'F', 'Medium', '1'}), items_add=frozenset({'0'}), confidence=1.0, lift=1.0101010101010102)]),\n",
       " RelationRecord(items=frozenset({'F', '0', 'No', '1'}), support=0.22, ordered_statistics=[OrderedStatistic(items_base=frozenset({'F'}), items_add=frozenset({'0', 'No', '1'}), confidence=0.5, lift=1.0204081632653061), OrderedStatistic(items_base=frozenset({'F', '0'}), items_add=frozenset({'No', '1'}), confidence=0.5, lift=1.0204081632653061), OrderedStatistic(items_base=frozenset({'F', '1'}), items_add=frozenset({'0', 'No'}), confidence=0.5945945945945946, lift=1.0617760617760617), OrderedStatistic(items_base=frozenset({'F', 'No'}), items_add=frozenset({'0', '1'}), confidence=0.88, lift=1.0731707317073171), OrderedStatistic(items_base=frozenset({'F', '0', '1'}), items_add=frozenset({'No'}), confidence=0.5945945945945946, lift=1.0617760617760617), OrderedStatistic(items_base=frozenset({'F', '0', 'No'}), items_add=frozenset({'1'}), confidence=0.88, lift=1.0602409638554218), OrderedStatistic(items_base=frozenset({'F', 'No', '1'}), items_add=frozenset({'0'}), confidence=1.0, lift=1.0101010101010102)]),\n",
       " RelationRecord(items=frozenset({'F', '0', 'Yes', '1'}), support=0.15, ordered_statistics=[OrderedStatistic(items_base=frozenset({'F', 'Yes'}), items_add=frozenset({'0', '1'}), confidence=0.7894736842105263, lift=0.9627727856225932), OrderedStatistic(items_base=frozenset({'F', '0', 'Yes'}), items_add=frozenset({'1'}), confidence=0.7894736842105263, lift=0.9511731135066582), OrderedStatistic(items_base=frozenset({'F', 'Yes', '1'}), items_add=frozenset({'0'}), confidence=1.0, lift=1.0101010101010102)]),\n",
       " RelationRecord(items=frozenset({'0', 'Long', 'M', '1'}), support=0.25, ordered_statistics=[OrderedStatistic(items_base=frozenset({'Long'}), items_add=frozenset({'0', 'M', '1'}), confidence=0.5102040816326531, lift=1.1337868480725624), OrderedStatistic(items_base=frozenset({'0', 'Long'}), items_add=frozenset({'M', '1'}), confidence=0.5102040816326531, lift=1.109139307897072), OrderedStatistic(items_base=frozenset({'Long', '1'}), items_add=frozenset({'0', 'M'}), confidence=0.625, lift=1.1363636363636362), OrderedStatistic(items_base=frozenset({'M', '1'}), items_add=frozenset({'0', 'Long'}), confidence=0.5434782608695652, lift=1.109139307897072), OrderedStatistic(items_base=frozenset({'Long', 'M'}), items_add=frozenset({'0', '1'}), confidence=0.8064516129032259, lift=0.9834775767112511), OrderedStatistic(items_base=frozenset({'0', 'Long', '1'}), items_add=frozenset({'M'}), confidence=0.625, lift=1.1160714285714284), OrderedStatistic(items_base=frozenset({'0', 'M', '1'}), items_add=frozenset({'Long'}), confidence=0.5555555555555556, lift=1.1337868480725624), OrderedStatistic(items_base=frozenset({'0', 'Long', 'M'}), items_add=frozenset({'1'}), confidence=0.8064516129032259, lift=0.9716284492809951), OrderedStatistic(items_base=frozenset({'Long', 'M', '1'}), items_add=frozenset({'0'}), confidence=1.0, lift=1.0101010101010102)]),\n",
       " RelationRecord(items=frozenset({'0', 'Long', 'No', '1'}), support=0.22, ordered_statistics=[OrderedStatistic(items_base=frozenset({'Long', '1'}), items_add=frozenset({'0', 'No'}), confidence=0.5499999999999999, lift=0.982142857142857), OrderedStatistic(items_base=frozenset({'Long', 'No'}), items_add=frozenset({'0', '1'}), confidence=0.9166666666666667, lift=1.1178861788617889), OrderedStatistic(items_base=frozenset({'0', 'Long', '1'}), items_add=frozenset({'No'}), confidence=0.5499999999999999, lift=0.982142857142857), OrderedStatistic(items_base=frozenset({'0', 'Long', 'No'}), items_add=frozenset({'1'}), confidence=0.9166666666666667, lift=1.1044176706827311), OrderedStatistic(items_base=frozenset({'Long', 'No', '1'}), items_add=frozenset({'0'}), confidence=1.0, lift=1.0101010101010102)]),\n",
       " RelationRecord(items=frozenset({'Yes', '0', 'Long', '1'}), support=0.18, ordered_statistics=[OrderedStatistic(items_base=frozenset({'Yes', '1'}), items_add=frozenset({'0', 'Long'}), confidence=0.5294117647058822, lift=1.0804321728691475), OrderedStatistic(items_base=frozenset({'Yes', 'Long'}), items_add=frozenset({'0', '1'}), confidence=0.72, lift=0.8780487804878049), OrderedStatistic(items_base=frozenset({'0', 'Yes', '1'}), items_add=frozenset({'Long'}), confidence=0.5454545454545454, lift=1.1131725417439702), OrderedStatistic(items_base=frozenset({'Yes', '0', 'Long'}), items_add=frozenset({'1'}), confidence=0.72, lift=0.8674698795180723), OrderedStatistic(items_base=frozenset({'Yes', 'Long', '1'}), items_add=frozenset({'0'}), confidence=1.0, lift=1.0101010101010102)]),\n",
       " RelationRecord(items=frozenset({'Medium', '0', 'M', '1'}), support=0.1, ordered_statistics=[OrderedStatistic(items_base=frozenset({'Medium', 'M'}), items_add=frozenset({'0', '1'}), confidence=0.7142857142857143, lift=0.8710801393728224), OrderedStatistic(items_base=frozenset({'Medium', '0', 'M'}), items_add=frozenset({'1'}), confidence=0.7692307692307693, lift=0.9267840593141798), OrderedStatistic(items_base=frozenset({'Medium', 'M', '1'}), items_add=frozenset({'0'}), confidence=0.9090909090909092, lift=0.9182736455463729)]),\n",
       " RelationRecord(items=frozenset({'0', 'No', 'M', '1'}), support=0.27, ordered_statistics=[OrderedStatistic(items_base=frozenset({'M', '1'}), items_add=frozenset({'0', 'No'}), confidence=0.5869565217391305, lift=1.0481366459627328), OrderedStatistic(items_base=frozenset({'No', '1'}), items_add=frozenset({'0', 'M'}), confidence=0.5510204081632654, lift=1.0018552875695732), OrderedStatistic(items_base=frozenset({'No', 'M'}), items_add=frozenset({'0', '1'}), confidence=0.870967741935484, lift=1.0621557828481514), OrderedStatistic(items_base=frozenset({'0', 'M', '1'}), items_add=frozenset({'No'}), confidence=0.6, lift=1.0714285714285714), OrderedStatistic(items_base=frozenset({'0', 'No', '1'}), items_add=frozenset({'M'}), confidence=0.5510204081632654, lift=0.9839650145772595), OrderedStatistic(items_base=frozenset({'0', 'No', 'M'}), items_add=frozenset({'1'}), confidence=0.870967741935484, lift=1.0493587252234748), OrderedStatistic(items_base=frozenset({'No', 'M', '1'}), items_add=frozenset({'0'}), confidence=1.0, lift=1.0101010101010102)]),\n",
       " RelationRecord(items=frozenset({'Short', '0', 'M', '1'}), support=0.1, ordered_statistics=[OrderedStatistic(items_base=frozenset({'Short', '1'}), items_add=frozenset({'0', 'M'}), confidence=0.5555555555555556, lift=1.0101010101010102), OrderedStatistic(items_base=frozenset({'Short', 'M'}), items_add=frozenset({'0', '1'}), confidence=0.9090909090909092, lift=1.108647450110865), OrderedStatistic(items_base=frozenset({'Short', '0', '1'}), items_add=frozenset({'M'}), confidence=0.5555555555555556, lift=0.992063492063492), OrderedStatistic(items_base=frozenset({'Short', '0', 'M'}), items_add=frozenset({'1'}), confidence=0.9090909090909092, lift=1.095290251916758), OrderedStatistic(items_base=frozenset({'Short', 'M', '1'}), items_add=frozenset({'0'}), confidence=1.0, lift=1.0101010101010102)]),\n",
       " RelationRecord(items=frozenset({'0', 'Yes', 'M', '1'}), support=0.18, ordered_statistics=[OrderedStatistic(items_base=frozenset({'Yes', '1'}), items_add=frozenset({'0', 'M'}), confidence=0.5294117647058822, lift=0.9625668449197858), OrderedStatistic(items_base=frozenset({'Yes', 'M'}), items_add=frozenset({'0', '1'}), confidence=0.72, lift=0.8780487804878049), OrderedStatistic(items_base=frozenset({'0', 'Yes', '1'}), items_add=frozenset({'M'}), confidence=0.5454545454545454, lift=0.9740259740259739), OrderedStatistic(items_base=frozenset({'0', 'Yes', 'M'}), items_add=frozenset({'1'}), confidence=0.75, lift=0.9036144578313253), OrderedStatistic(items_base=frozenset({'Yes', 'M', '1'}), items_add=frozenset({'0'}), confidence=0.9473684210526315, lift=0.9569377990430622)]),\n",
       " RelationRecord(items=frozenset({'Medium', '0', 'No', '1'}), support=0.15, ordered_statistics=[OrderedStatistic(items_base=frozenset({'Medium'}), items_add=frozenset({'0', 'No', '1'}), confidence=0.5, lift=1.0204081632653061), OrderedStatistic(items_base=frozenset({'Medium', '0'}), items_add=frozenset({'No', '1'}), confidence=0.5172413793103449, lift=1.055594651653765), OrderedStatistic(items_base=frozenset({'Medium', '1'}), items_add=frozenset({'0', 'No'}), confidence=0.6, lift=1.0714285714285714), OrderedStatistic(items_base=frozenset({'Medium', 'No'}), items_add=frozenset({'0', '1'}), confidence=0.8333333333333334, lift=1.016260162601626), OrderedStatistic(items_base=frozenset({'Medium', '0', '1'}), items_add=frozenset({'No'}), confidence=0.625, lift=1.1160714285714284), OrderedStatistic(items_base=frozenset({'Medium', '0', 'No'}), items_add=frozenset({'1'}), confidence=0.8333333333333334, lift=1.0040160642570282), OrderedStatistic(items_base=frozenset({'Medium', 'No', '1'}), items_add=frozenset({'0'}), confidence=1.0, lift=1.0101010101010102)]),\n",
       " RelationRecord(items=frozenset({'Short', '0', 'No', '1'}), support=0.12, ordered_statistics=[OrderedStatistic(items_base=frozenset({'Short'}), items_add=frozenset({'0', 'No', '1'}), confidence=0.5714285714285714, lift=1.1661807580174928), OrderedStatistic(items_base=frozenset({'Short', '0'}), items_add=frozenset({'No', '1'}), confidence=0.5714285714285714, lift=1.1661807580174928), OrderedStatistic(items_base=frozenset({'Short', '1'}), items_add=frozenset({'0', 'No'}), confidence=0.6666666666666666, lift=1.1904761904761902), OrderedStatistic(items_base=frozenset({'Short', 'No'}), items_add=frozenset({'0', '1'}), confidence=0.857142857142857, lift=1.0452961672473866), OrderedStatistic(items_base=frozenset({'Short', '0', '1'}), items_add=frozenset({'No'}), confidence=0.6666666666666666, lift=1.1904761904761902), OrderedStatistic(items_base=frozenset({'Short', '0', 'No'}), items_add=frozenset({'1'}), confidence=0.857142857142857, lift=1.0327022375215145), OrderedStatistic(items_base=frozenset({'Short', 'No', '1'}), items_add=frozenset({'0'}), confidence=1.0, lift=1.0101010101010102)]),\n",
       " RelationRecord(items=frozenset({'F', 'Yes', '0', 'Long'}), support=0.1, ordered_statistics=[OrderedStatistic(items_base=frozenset({'F', 'Long'}), items_add=frozenset({'0', 'Yes'}), confidence=0.5555555555555556, lift=1.2919896640826873), OrderedStatistic(items_base=frozenset({'F', 'Yes'}), items_add=frozenset({'0', 'Long'}), confidence=0.5263157894736842, lift=1.0741138560687433), OrderedStatistic(items_base=frozenset({'F', '0', 'Long'}), items_add=frozenset({'Yes'}), confidence=0.5555555555555556, lift=1.2626262626262628), OrderedStatistic(items_base=frozenset({'F', '0', 'Yes'}), items_add=frozenset({'Long'}), confidence=0.5263157894736842, lift=1.0741138560687433), OrderedStatistic(items_base=frozenset({'F', 'Yes', 'Long'}), items_add=frozenset({'0'}), confidence=1.0, lift=1.0101010101010102)]),\n",
       " RelationRecord(items=frozenset({'F', 'Medium', '0', 'No'}), support=0.1, ordered_statistics=[OrderedStatistic(items_base=frozenset({'F', 'Medium'}), items_add=frozenset({'0', 'No'}), confidence=0.625, lift=1.1160714285714284), OrderedStatistic(items_base=frozenset({'Medium', 'No'}), items_add=frozenset({'F', '0'}), confidence=0.5555555555555556, lift=1.2626262626262628), OrderedStatistic(items_base=frozenset({'F', 'Medium', '0'}), items_add=frozenset({'No'}), confidence=0.625, lift=1.1160714285714284), OrderedStatistic(items_base=frozenset({'Medium', '0', 'No'}), items_add=frozenset({'F'}), confidence=0.5555555555555556, lift=1.2626262626262628), OrderedStatistic(items_base=frozenset({'F', 'Medium', 'No'}), items_add=frozenset({'0'}), confidence=1.0, lift=1.0101010101010102)]),\n",
       " RelationRecord(items=frozenset({'No', '0', 'Long', 'M'}), support=0.16, ordered_statistics=[OrderedStatistic(items_base=frozenset({'Long', 'M'}), items_add=frozenset({'0', 'No'}), confidence=0.5161290322580645, lift=0.9216589861751151), OrderedStatistic(items_base=frozenset({'Long', 'No'}), items_add=frozenset({'0', 'M'}), confidence=0.6666666666666667, lift=1.2121212121212122), OrderedStatistic(items_base=frozenset({'No', 'M'}), items_add=frozenset({'0', 'Long'}), confidence=0.5161290322580645, lift=1.053324555628703), OrderedStatistic(items_base=frozenset({'0', 'Long', 'M'}), items_add=frozenset({'No'}), confidence=0.5161290322580645, lift=0.9216589861751151), OrderedStatistic(items_base=frozenset({'0', 'Long', 'No'}), items_add=frozenset({'M'}), confidence=0.6666666666666667, lift=1.1904761904761905), OrderedStatistic(items_base=frozenset({'0', 'No', 'M'}), items_add=frozenset({'Long'}), confidence=0.5161290322580645, lift=1.053324555628703), OrderedStatistic(items_base=frozenset({'No', 'Long', 'M'}), items_add=frozenset({'0'}), confidence=1.0, lift=1.0101010101010102)]),\n",
       " RelationRecord(items=frozenset({'Yes', '0', 'Long', 'M'}), support=0.15, ordered_statistics=[OrderedStatistic(items_base=frozenset({'Yes', 'Long'}), items_add=frozenset({'0', 'M'}), confidence=0.6, lift=1.0909090909090908), OrderedStatistic(items_base=frozenset({'Yes', 'M'}), items_add=frozenset({'0', 'Long'}), confidence=0.6, lift=1.2244897959183674), OrderedStatistic(items_base=frozenset({'Yes', '0', 'Long'}), items_add=frozenset({'M'}), confidence=0.6, lift=1.0714285714285714), OrderedStatistic(items_base=frozenset({'0', 'Yes', 'M'}), items_add=frozenset({'Long'}), confidence=0.625, lift=1.2755102040816326), OrderedStatistic(items_base=frozenset({'Yes', 'Long', 'M'}), items_add=frozenset({'0'}), confidence=1.0, lift=1.0101010101010102)]),\n",
       " RelationRecord(items=frozenset({'No', 'Long', 'M', '1'}), support=0.15, ordered_statistics=[OrderedStatistic(items_base=frozenset({'Long', 'No'}), items_add=frozenset({'M', '1'}), confidence=0.625, lift=1.358695652173913), OrderedStatistic(items_base=frozenset({'Long', 'M', '1'}), items_add=frozenset({'No'}), confidence=0.6, lift=1.0714285714285714), OrderedStatistic(items_base=frozenset({'Long', 'No', '1'}), items_add=frozenset({'M'}), confidence=0.6818181818181818, lift=1.2175324675324672), OrderedStatistic(items_base=frozenset({'No', 'M', '1'}), items_add=frozenset({'Long'}), confidence=0.5555555555555555, lift=1.1337868480725621), OrderedStatistic(items_base=frozenset({'No', 'Long', 'M'}), items_add=frozenset({'1'}), confidence=0.9375, lift=1.1295180722891567)]),\n",
       " RelationRecord(items=frozenset({'Yes', 'Long', 'M', '1'}), support=0.1, ordered_statistics=[OrderedStatistic(items_base=frozenset({'Yes', 'Long', '1'}), items_add=frozenset({'M'}), confidence=0.5555555555555556, lift=0.992063492063492), OrderedStatistic(items_base=frozenset({'Yes', 'M', '1'}), items_add=frozenset({'Long'}), confidence=0.5263157894736842, lift=1.0741138560687433), OrderedStatistic(items_base=frozenset({'Yes', 'Long', 'M'}), items_add=frozenset({'1'}), confidence=0.6666666666666667, lift=0.8032128514056226)]),\n",
       " RelationRecord(items=frozenset({'0', 'Long', 'No', 'M', '1'}), support=0.15, ordered_statistics=[OrderedStatistic(items_base=frozenset({'Long', 'No'}), items_add=frozenset({'0', 'M', '1'}), confidence=0.625, lift=1.3888888888888888), OrderedStatistic(items_base=frozenset({'0', 'Long', 'No'}), items_add=frozenset({'M', '1'}), confidence=0.625, lift=1.358695652173913), OrderedStatistic(items_base=frozenset({'Long', 'M', '1'}), items_add=frozenset({'0', 'No'}), confidence=0.6, lift=1.0714285714285714), OrderedStatistic(items_base=frozenset({'Long', 'No', '1'}), items_add=frozenset({'0', 'M'}), confidence=0.6818181818181818, lift=1.2396694214876032), OrderedStatistic(items_base=frozenset({'No', 'M', '1'}), items_add=frozenset({'0', 'Long'}), confidence=0.5555555555555555, lift=1.1337868480725621), OrderedStatistic(items_base=frozenset({'No', 'Long', 'M'}), items_add=frozenset({'0', '1'}), confidence=0.9375, lift=1.1432926829268293), OrderedStatistic(items_base=frozenset({'0', 'Long', 'M', '1'}), items_add=frozenset({'No'}), confidence=0.6, lift=1.0714285714285714), OrderedStatistic(items_base=frozenset({'0', 'Long', 'No', '1'}), items_add=frozenset({'M'}), confidence=0.6818181818181818, lift=1.2175324675324672), OrderedStatistic(items_base=frozenset({'0', 'No', 'M', '1'}), items_add=frozenset({'Long'}), confidence=0.5555555555555555, lift=1.1337868480725621), OrderedStatistic(items_base=frozenset({'No', '0', 'Long', 'M'}), items_add=frozenset({'1'}), confidence=0.9375, lift=1.1295180722891567), OrderedStatistic(items_base=frozenset({'No', 'Long', 'M', '1'}), items_add=frozenset({'0'}), confidence=1.0, lift=1.0101010101010102)]),\n",
       " RelationRecord(items=frozenset({'0', 'Yes', 'Long', 'M', '1'}), support=0.1, ordered_statistics=[OrderedStatistic(items_base=frozenset({'Yes', 'Long', '1'}), items_add=frozenset({'0', 'M'}), confidence=0.5555555555555556, lift=1.0101010101010102), OrderedStatistic(items_base=frozenset({'Yes', 'M', '1'}), items_add=frozenset({'0', 'Long'}), confidence=0.5263157894736842, lift=1.0741138560687433), OrderedStatistic(items_base=frozenset({'Yes', 'Long', 'M'}), items_add=frozenset({'0', '1'}), confidence=0.6666666666666667, lift=0.8130081300813009), OrderedStatistic(items_base=frozenset({'Yes', '0', 'Long', '1'}), items_add=frozenset({'M'}), confidence=0.5555555555555556, lift=0.992063492063492), OrderedStatistic(items_base=frozenset({'0', 'Yes', 'M', '1'}), items_add=frozenset({'Long'}), confidence=0.5555555555555556, lift=1.1337868480725624), OrderedStatistic(items_base=frozenset({'Yes', '0', 'Long', 'M'}), items_add=frozenset({'1'}), confidence=0.6666666666666667, lift=0.8032128514056226), OrderedStatistic(items_base=frozenset({'Yes', 'Long', 'M', '1'}), items_add=frozenset({'0'}), confidence=1.0, lift=1.0101010101010102)])]"
      ]
     },
     "execution_count": 319,
     "metadata": {},
     "output_type": "execute_result"
    }
   ],
   "source": [
    "a_rules = apriori(Buffer, min_confidence=0.5)\n",
    "a_results = list(a_rules)\n",
    "a_results"
   ]
  },
  {
   "cell_type": "code",
   "execution_count": 320,
   "metadata": {},
   "outputs": [
    {
     "data": {
      "text/plain": [
       "89"
      ]
     },
     "execution_count": 320,
     "metadata": {},
     "output_type": "execute_result"
    }
   ],
   "source": [
    "len(a_results)"
   ]
  },
  {
   "cell_type": "markdown",
   "metadata": {},
   "source": [
    "# Min Confidence 0.7"
   ]
  },
  {
   "cell_type": "code",
   "execution_count": 321,
   "metadata": {},
   "outputs": [
    {
     "data": {
      "text/plain": [
       "[RelationRecord(items=frozenset({'0'}), support=0.99, ordered_statistics=[OrderedStatistic(items_base=frozenset(), items_add=frozenset({'0'}), confidence=0.99, lift=1.0)]),\n",
       " RelationRecord(items=frozenset({'1'}), support=0.83, ordered_statistics=[OrderedStatistic(items_base=frozenset(), items_add=frozenset({'1'}), confidence=0.83, lift=1.0)]),\n",
       " RelationRecord(items=frozenset({'0', '1'}), support=0.82, ordered_statistics=[OrderedStatistic(items_base=frozenset(), items_add=frozenset({'0', '1'}), confidence=0.82, lift=1.0), OrderedStatistic(items_base=frozenset({'0'}), items_add=frozenset({'1'}), confidence=0.8282828282828283, lift=0.9979311184130462), OrderedStatistic(items_base=frozenset({'1'}), items_add=frozenset({'0'}), confidence=0.9879518072289156, lift=0.997931118413046)]),\n",
       " RelationRecord(items=frozenset({'F', '0'}), support=0.44, ordered_statistics=[OrderedStatistic(items_base=frozenset({'F'}), items_add=frozenset({'0'}), confidence=1.0, lift=1.0101010101010102)]),\n",
       " RelationRecord(items=frozenset({'0', 'Long'}), support=0.49, ordered_statistics=[OrderedStatistic(items_base=frozenset({'Long'}), items_add=frozenset({'0'}), confidence=1.0, lift=1.0101010101010102)]),\n",
       " RelationRecord(items=frozenset({'0', 'M'}), support=0.55, ordered_statistics=[OrderedStatistic(items_base=frozenset({'M'}), items_add=frozenset({'0'}), confidence=0.9821428571428571, lift=0.992063492063492)]),\n",
       " RelationRecord(items=frozenset({'Medium', '0'}), support=0.29, ordered_statistics=[OrderedStatistic(items_base=frozenset({'Medium'}), items_add=frozenset({'0'}), confidence=0.9666666666666667, lift=0.9764309764309764)]),\n",
       " RelationRecord(items=frozenset({'0', 'No'}), support=0.56, ordered_statistics=[OrderedStatistic(items_base=frozenset({'No'}), items_add=frozenset({'0'}), confidence=1.0, lift=1.0101010101010102)]),\n",
       " RelationRecord(items=frozenset({'Short', '0'}), support=0.21, ordered_statistics=[OrderedStatistic(items_base=frozenset({'Short'}), items_add=frozenset({'0'}), confidence=1.0, lift=1.0101010101010102)]),\n",
       " RelationRecord(items=frozenset({'0', 'Yes'}), support=0.43, ordered_statistics=[OrderedStatistic(items_base=frozenset({'Yes'}), items_add=frozenset({'0'}), confidence=0.9772727272727273, lift=0.9871441689623508)]),\n",
       " RelationRecord(items=frozenset({'F', '1'}), support=0.37, ordered_statistics=[OrderedStatistic(items_base=frozenset({'F'}), items_add=frozenset({'1'}), confidence=0.8409090909090909, lift=1.0131434830230013)]),\n",
       " RelationRecord(items=frozenset({'Long', '1'}), support=0.4, ordered_statistics=[OrderedStatistic(items_base=frozenset({'Long'}), items_add=frozenset({'1'}), confidence=0.8163265306122449, lift=0.9835259404966806)]),\n",
       " RelationRecord(items=frozenset({'M', '1'}), support=0.46, ordered_statistics=[OrderedStatistic(items_base=frozenset({'M'}), items_add=frozenset({'1'}), confidence=0.8214285714285714, lift=0.9896729776247849)]),\n",
       " RelationRecord(items=frozenset({'Medium', '1'}), support=0.25, ordered_statistics=[OrderedStatistic(items_base=frozenset({'Medium'}), items_add=frozenset({'1'}), confidence=0.8333333333333334, lift=1.0040160642570282)]),\n",
       " RelationRecord(items=frozenset({'No', '1'}), support=0.49, ordered_statistics=[OrderedStatistic(items_base=frozenset({'No'}), items_add=frozenset({'1'}), confidence=0.8749999999999999, lift=1.0542168674698795)]),\n",
       " RelationRecord(items=frozenset({'Short', '1'}), support=0.18, ordered_statistics=[OrderedStatistic(items_base=frozenset({'Short'}), items_add=frozenset({'1'}), confidence=0.8571428571428571, lift=1.0327022375215147)]),\n",
       " RelationRecord(items=frozenset({'Yes', '1'}), support=0.34, ordered_statistics=[OrderedStatistic(items_base=frozenset({'Yes'}), items_add=frozenset({'1'}), confidence=0.7727272727272728, lift=0.9309967141292445)]),\n",
       " RelationRecord(items=frozenset({'F', '0', '1'}), support=0.37, ordered_statistics=[OrderedStatistic(items_base=frozenset({'F'}), items_add=frozenset({'0', '1'}), confidence=0.8409090909090909, lift=1.02549889135255), OrderedStatistic(items_base=frozenset({'F', '0'}), items_add=frozenset({'1'}), confidence=0.8409090909090909, lift=1.0131434830230013), OrderedStatistic(items_base=frozenset({'F', '1'}), items_add=frozenset({'0'}), confidence=1.0, lift=1.0101010101010102)]),\n",
       " RelationRecord(items=frozenset({'0', 'Long', '1'}), support=0.4, ordered_statistics=[OrderedStatistic(items_base=frozenset({'Long'}), items_add=frozenset({'0', '1'}), confidence=0.8163265306122449, lift=0.9955201592832256), OrderedStatistic(items_base=frozenset({'0', 'Long'}), items_add=frozenset({'1'}), confidence=0.8163265306122449, lift=0.9835259404966806), OrderedStatistic(items_base=frozenset({'Long', '1'}), items_add=frozenset({'0'}), confidence=1.0, lift=1.0101010101010102)]),\n",
       " RelationRecord(items=frozenset({'0', 'M', '1'}), support=0.45, ordered_statistics=[OrderedStatistic(items_base=frozenset({'M'}), items_add=frozenset({'0', '1'}), confidence=0.8035714285714285, lift=0.9799651567944251), OrderedStatistic(items_base=frozenset({'0', 'M'}), items_add=frozenset({'1'}), confidence=0.8181818181818181, lift=0.9857612267250822), OrderedStatistic(items_base=frozenset({'M', '1'}), items_add=frozenset({'0'}), confidence=0.9782608695652174, lift=0.9881422924901186)]),\n",
       " RelationRecord(items=frozenset({'Medium', '0', '1'}), support=0.24, ordered_statistics=[OrderedStatistic(items_base=frozenset({'Medium'}), items_add=frozenset({'0', '1'}), confidence=0.8, lift=0.9756097560975611), OrderedStatistic(items_base=frozenset({'Medium', '0'}), items_add=frozenset({'1'}), confidence=0.8275862068965517, lift=0.9970918155380142), OrderedStatistic(items_base=frozenset({'Medium', '1'}), items_add=frozenset({'0'}), confidence=0.96, lift=0.9696969696969697)]),\n",
       " RelationRecord(items=frozenset({'0', 'No', '1'}), support=0.49, ordered_statistics=[OrderedStatistic(items_base=frozenset({'No'}), items_add=frozenset({'0', '1'}), confidence=0.8749999999999999, lift=1.0670731707317072), OrderedStatistic(items_base=frozenset({'0', 'No'}), items_add=frozenset({'1'}), confidence=0.8749999999999999, lift=1.0542168674698795), OrderedStatistic(items_base=frozenset({'No', '1'}), items_add=frozenset({'0'}), confidence=1.0, lift=1.0101010101010102)]),\n",
       " RelationRecord(items=frozenset({'Short', '0', '1'}), support=0.18, ordered_statistics=[OrderedStatistic(items_base=frozenset({'Short'}), items_add=frozenset({'0', '1'}), confidence=0.8571428571428571, lift=1.0452961672473868), OrderedStatistic(items_base=frozenset({'Short', '0'}), items_add=frozenset({'1'}), confidence=0.8571428571428571, lift=1.0327022375215147), OrderedStatistic(items_base=frozenset({'Short', '1'}), items_add=frozenset({'0'}), confidence=1.0, lift=1.0101010101010102)]),\n",
       " RelationRecord(items=frozenset({'0', 'Yes', '1'}), support=0.33, ordered_statistics=[OrderedStatistic(items_base=frozenset({'Yes'}), items_add=frozenset({'0', '1'}), confidence=0.75, lift=0.9146341463414634), OrderedStatistic(items_base=frozenset({'0', 'Yes'}), items_add=frozenset({'1'}), confidence=0.7674418604651163, lift=0.9246287475483329), OrderedStatistic(items_base=frozenset({'Yes', '1'}), items_add=frozenset({'0'}), confidence=0.9705882352941176, lift=0.9803921568627451)]),\n",
       " RelationRecord(items=frozenset({'F', '0', 'Long'}), support=0.18, ordered_statistics=[OrderedStatistic(items_base=frozenset({'F', 'Long'}), items_add=frozenset({'0'}), confidence=1.0, lift=1.0101010101010102)]),\n",
       " RelationRecord(items=frozenset({'F', 'Medium', '0'}), support=0.16, ordered_statistics=[OrderedStatistic(items_base=frozenset({'F', 'Medium'}), items_add=frozenset({'0'}), confidence=1.0, lift=1.0101010101010102)]),\n",
       " RelationRecord(items=frozenset({'F', '0', 'No'}), support=0.25, ordered_statistics=[OrderedStatistic(items_base=frozenset({'F', 'No'}), items_add=frozenset({'0'}), confidence=1.0, lift=1.0101010101010102)]),\n",
       " RelationRecord(items=frozenset({'F', '0', 'Short'}), support=0.1, ordered_statistics=[OrderedStatistic(items_base=frozenset({'F', 'Short'}), items_add=frozenset({'0'}), confidence=1.0, lift=1.0101010101010102)]),\n",
       " RelationRecord(items=frozenset({'F', '0', 'Yes'}), support=0.19, ordered_statistics=[OrderedStatistic(items_base=frozenset({'F', 'Yes'}), items_add=frozenset({'0'}), confidence=1.0, lift=1.0101010101010102)]),\n",
       " RelationRecord(items=frozenset({'0', 'Long', 'M'}), support=0.31, ordered_statistics=[OrderedStatistic(items_base=frozenset({'Long', 'M'}), items_add=frozenset({'0'}), confidence=1.0, lift=1.0101010101010102)]),\n",
       " RelationRecord(items=frozenset({'0', 'Long', 'No'}), support=0.24, ordered_statistics=[OrderedStatistic(items_base=frozenset({'Long', 'No'}), items_add=frozenset({'0'}), confidence=1.0, lift=1.0101010101010102)]),\n",
       " RelationRecord(items=frozenset({'Yes', '0', 'Long'}), support=0.25, ordered_statistics=[OrderedStatistic(items_base=frozenset({'Yes', 'Long'}), items_add=frozenset({'0'}), confidence=1.0, lift=1.0101010101010102)]),\n",
       " RelationRecord(items=frozenset({'Medium', '0', 'M'}), support=0.13, ordered_statistics=[OrderedStatistic(items_base=frozenset({'Medium', 'M'}), items_add=frozenset({'0'}), confidence=0.9285714285714285, lift=0.9379509379509379)]),\n",
       " RelationRecord(items=frozenset({'0', 'No', 'M'}), support=0.31, ordered_statistics=[OrderedStatistic(items_base=frozenset({'No', 'M'}), items_add=frozenset({'0'}), confidence=1.0, lift=1.0101010101010102)]),\n",
       " RelationRecord(items=frozenset({'Short', '0', 'M'}), support=0.11, ordered_statistics=[OrderedStatistic(items_base=frozenset({'Short', 'M'}), items_add=frozenset({'0'}), confidence=1.0, lift=1.0101010101010102)]),\n",
       " RelationRecord(items=frozenset({'0', 'Yes', 'M'}), support=0.24, ordered_statistics=[OrderedStatistic(items_base=frozenset({'Yes', 'M'}), items_add=frozenset({'0'}), confidence=0.96, lift=0.9696969696969697)]),\n",
       " RelationRecord(items=frozenset({'Medium', '0', 'No'}), support=0.18, ordered_statistics=[OrderedStatistic(items_base=frozenset({'Medium', 'No'}), items_add=frozenset({'0'}), confidence=1.0, lift=1.0101010101010102)]),\n",
       " RelationRecord(items=frozenset({'Medium', '0', 'Yes'}), support=0.11, ordered_statistics=[OrderedStatistic(items_base=frozenset({'Medium', 'Yes'}), items_add=frozenset({'0'}), confidence=0.9166666666666667, lift=0.925925925925926)]),\n",
       " RelationRecord(items=frozenset({'Short', '0', 'No'}), support=0.14, ordered_statistics=[OrderedStatistic(items_base=frozenset({'Short', 'No'}), items_add=frozenset({'0'}), confidence=1.0, lift=1.0101010101010102)]),\n",
       " RelationRecord(items=frozenset({'F', 'Long', '1'}), support=0.15, ordered_statistics=[OrderedStatistic(items_base=frozenset({'F', 'Long'}), items_add=frozenset({'1'}), confidence=0.8333333333333334, lift=1.0040160642570282)]),\n",
       " RelationRecord(items=frozenset({'F', 'Medium', '1'}), support=0.14, ordered_statistics=[OrderedStatistic(items_base=frozenset({'F', 'Medium'}), items_add=frozenset({'1'}), confidence=0.8750000000000001, lift=1.0542168674698797)]),\n",
       " RelationRecord(items=frozenset({'F', 'No', '1'}), support=0.22, ordered_statistics=[OrderedStatistic(items_base=frozenset({'F', 'No'}), items_add=frozenset({'1'}), confidence=0.88, lift=1.0602409638554218)]),\n",
       " RelationRecord(items=frozenset({'F', 'Yes', '1'}), support=0.15, ordered_statistics=[OrderedStatistic(items_base=frozenset({'F', 'Yes'}), items_add=frozenset({'1'}), confidence=0.7894736842105263, lift=0.9511731135066582)]),\n",
       " RelationRecord(items=frozenset({'Long', 'M', '1'}), support=0.25, ordered_statistics=[OrderedStatistic(items_base=frozenset({'Long', 'M'}), items_add=frozenset({'1'}), confidence=0.8064516129032259, lift=0.9716284492809951)]),\n",
       " RelationRecord(items=frozenset({'Long', 'No', '1'}), support=0.22, ordered_statistics=[OrderedStatistic(items_base=frozenset({'Long', 'No'}), items_add=frozenset({'1'}), confidence=0.9166666666666667, lift=1.1044176706827311)]),\n",
       " RelationRecord(items=frozenset({'Yes', 'Long', '1'}), support=0.18, ordered_statistics=[OrderedStatistic(items_base=frozenset({'Yes', 'Long'}), items_add=frozenset({'1'}), confidence=0.72, lift=0.8674698795180723)]),\n",
       " RelationRecord(items=frozenset({'Medium', 'M', '1'}), support=0.11, ordered_statistics=[OrderedStatistic(items_base=frozenset({'Medium', 'M'}), items_add=frozenset({'1'}), confidence=0.7857142857142857, lift=0.9466437177280551)]),\n",
       " RelationRecord(items=frozenset({'No', 'M', '1'}), support=0.27, ordered_statistics=[OrderedStatistic(items_base=frozenset({'No', 'M'}), items_add=frozenset({'1'}), confidence=0.870967741935484, lift=1.0493587252234748)]),\n",
       " RelationRecord(items=frozenset({'Short', 'M', '1'}), support=0.1, ordered_statistics=[OrderedStatistic(items_base=frozenset({'Short', 'M'}), items_add=frozenset({'1'}), confidence=0.9090909090909092, lift=1.095290251916758)]),\n",
       " RelationRecord(items=frozenset({'Yes', 'M', '1'}), support=0.19, ordered_statistics=[OrderedStatistic(items_base=frozenset({'Yes', 'M'}), items_add=frozenset({'1'}), confidence=0.76, lift=0.9156626506024097)]),\n",
       " RelationRecord(items=frozenset({'Medium', 'No', '1'}), support=0.15, ordered_statistics=[OrderedStatistic(items_base=frozenset({'Medium', 'No'}), items_add=frozenset({'1'}), confidence=0.8333333333333334, lift=1.0040160642570282)]),\n",
       " RelationRecord(items=frozenset({'Medium', 'Yes', '1'}), support=0.1, ordered_statistics=[OrderedStatistic(items_base=frozenset({'Medium', 'Yes'}), items_add=frozenset({'1'}), confidence=0.8333333333333334, lift=1.0040160642570282)]),\n",
       " RelationRecord(items=frozenset({'Short', 'No', '1'}), support=0.12, ordered_statistics=[OrderedStatistic(items_base=frozenset({'Short', 'No'}), items_add=frozenset({'1'}), confidence=0.857142857142857, lift=1.0327022375215145)]),\n",
       " RelationRecord(items=frozenset({'F', '0', 'Long', '1'}), support=0.15, ordered_statistics=[OrderedStatistic(items_base=frozenset({'F', 'Long'}), items_add=frozenset({'0', '1'}), confidence=0.8333333333333334, lift=1.016260162601626), OrderedStatistic(items_base=frozenset({'F', '0', 'Long'}), items_add=frozenset({'1'}), confidence=0.8333333333333334, lift=1.0040160642570282), OrderedStatistic(items_base=frozenset({'F', 'Long', '1'}), items_add=frozenset({'0'}), confidence=1.0, lift=1.0101010101010102)]),\n",
       " RelationRecord(items=frozenset({'F', 'Medium', '0', '1'}), support=0.14, ordered_statistics=[OrderedStatistic(items_base=frozenset({'F', 'Medium'}), items_add=frozenset({'0', '1'}), confidence=0.8750000000000001, lift=1.0670731707317076), OrderedStatistic(items_base=frozenset({'F', 'Medium', '0'}), items_add=frozenset({'1'}), confidence=0.8750000000000001, lift=1.0542168674698797), OrderedStatistic(items_base=frozenset({'F', 'Medium', '1'}), items_add=frozenset({'0'}), confidence=1.0, lift=1.0101010101010102)]),\n",
       " RelationRecord(items=frozenset({'F', '0', 'No', '1'}), support=0.22, ordered_statistics=[OrderedStatistic(items_base=frozenset({'F', 'No'}), items_add=frozenset({'0', '1'}), confidence=0.88, lift=1.0731707317073171), OrderedStatistic(items_base=frozenset({'F', '0', 'No'}), items_add=frozenset({'1'}), confidence=0.88, lift=1.0602409638554218), OrderedStatistic(items_base=frozenset({'F', 'No', '1'}), items_add=frozenset({'0'}), confidence=1.0, lift=1.0101010101010102)]),\n",
       " RelationRecord(items=frozenset({'F', '0', 'Yes', '1'}), support=0.15, ordered_statistics=[OrderedStatistic(items_base=frozenset({'F', 'Yes'}), items_add=frozenset({'0', '1'}), confidence=0.7894736842105263, lift=0.9627727856225932), OrderedStatistic(items_base=frozenset({'F', '0', 'Yes'}), items_add=frozenset({'1'}), confidence=0.7894736842105263, lift=0.9511731135066582), OrderedStatistic(items_base=frozenset({'F', 'Yes', '1'}), items_add=frozenset({'0'}), confidence=1.0, lift=1.0101010101010102)]),\n",
       " RelationRecord(items=frozenset({'0', 'Long', 'M', '1'}), support=0.25, ordered_statistics=[OrderedStatistic(items_base=frozenset({'Long', 'M'}), items_add=frozenset({'0', '1'}), confidence=0.8064516129032259, lift=0.9834775767112511), OrderedStatistic(items_base=frozenset({'0', 'Long', 'M'}), items_add=frozenset({'1'}), confidence=0.8064516129032259, lift=0.9716284492809951), OrderedStatistic(items_base=frozenset({'Long', 'M', '1'}), items_add=frozenset({'0'}), confidence=1.0, lift=1.0101010101010102)]),\n",
       " RelationRecord(items=frozenset({'0', 'Long', 'No', '1'}), support=0.22, ordered_statistics=[OrderedStatistic(items_base=frozenset({'Long', 'No'}), items_add=frozenset({'0', '1'}), confidence=0.9166666666666667, lift=1.1178861788617889), OrderedStatistic(items_base=frozenset({'0', 'Long', 'No'}), items_add=frozenset({'1'}), confidence=0.9166666666666667, lift=1.1044176706827311), OrderedStatistic(items_base=frozenset({'Long', 'No', '1'}), items_add=frozenset({'0'}), confidence=1.0, lift=1.0101010101010102)]),\n",
       " RelationRecord(items=frozenset({'Yes', '0', 'Long', '1'}), support=0.18, ordered_statistics=[OrderedStatistic(items_base=frozenset({'Yes', 'Long'}), items_add=frozenset({'0', '1'}), confidence=0.72, lift=0.8780487804878049), OrderedStatistic(items_base=frozenset({'Yes', '0', 'Long'}), items_add=frozenset({'1'}), confidence=0.72, lift=0.8674698795180723), OrderedStatistic(items_base=frozenset({'Yes', 'Long', '1'}), items_add=frozenset({'0'}), confidence=1.0, lift=1.0101010101010102)]),\n",
       " RelationRecord(items=frozenset({'Medium', '0', 'M', '1'}), support=0.1, ordered_statistics=[OrderedStatistic(items_base=frozenset({'Medium', 'M'}), items_add=frozenset({'0', '1'}), confidence=0.7142857142857143, lift=0.8710801393728224), OrderedStatistic(items_base=frozenset({'Medium', '0', 'M'}), items_add=frozenset({'1'}), confidence=0.7692307692307693, lift=0.9267840593141798), OrderedStatistic(items_base=frozenset({'Medium', 'M', '1'}), items_add=frozenset({'0'}), confidence=0.9090909090909092, lift=0.9182736455463729)]),\n",
       " RelationRecord(items=frozenset({'0', 'No', 'M', '1'}), support=0.27, ordered_statistics=[OrderedStatistic(items_base=frozenset({'No', 'M'}), items_add=frozenset({'0', '1'}), confidence=0.870967741935484, lift=1.0621557828481514), OrderedStatistic(items_base=frozenset({'0', 'No', 'M'}), items_add=frozenset({'1'}), confidence=0.870967741935484, lift=1.0493587252234748), OrderedStatistic(items_base=frozenset({'No', 'M', '1'}), items_add=frozenset({'0'}), confidence=1.0, lift=1.0101010101010102)]),\n",
       " RelationRecord(items=frozenset({'Short', '0', 'M', '1'}), support=0.1, ordered_statistics=[OrderedStatistic(items_base=frozenset({'Short', 'M'}), items_add=frozenset({'0', '1'}), confidence=0.9090909090909092, lift=1.108647450110865), OrderedStatistic(items_base=frozenset({'Short', '0', 'M'}), items_add=frozenset({'1'}), confidence=0.9090909090909092, lift=1.095290251916758), OrderedStatistic(items_base=frozenset({'Short', 'M', '1'}), items_add=frozenset({'0'}), confidence=1.0, lift=1.0101010101010102)]),\n",
       " RelationRecord(items=frozenset({'0', 'Yes', 'M', '1'}), support=0.18, ordered_statistics=[OrderedStatistic(items_base=frozenset({'Yes', 'M'}), items_add=frozenset({'0', '1'}), confidence=0.72, lift=0.8780487804878049), OrderedStatistic(items_base=frozenset({'0', 'Yes', 'M'}), items_add=frozenset({'1'}), confidence=0.75, lift=0.9036144578313253), OrderedStatistic(items_base=frozenset({'Yes', 'M', '1'}), items_add=frozenset({'0'}), confidence=0.9473684210526315, lift=0.9569377990430622)]),\n",
       " RelationRecord(items=frozenset({'Medium', '0', 'No', '1'}), support=0.15, ordered_statistics=[OrderedStatistic(items_base=frozenset({'Medium', 'No'}), items_add=frozenset({'0', '1'}), confidence=0.8333333333333334, lift=1.016260162601626), OrderedStatistic(items_base=frozenset({'Medium', '0', 'No'}), items_add=frozenset({'1'}), confidence=0.8333333333333334, lift=1.0040160642570282), OrderedStatistic(items_base=frozenset({'Medium', 'No', '1'}), items_add=frozenset({'0'}), confidence=1.0, lift=1.0101010101010102)]),\n",
       " RelationRecord(items=frozenset({'Short', '0', 'No', '1'}), support=0.12, ordered_statistics=[OrderedStatistic(items_base=frozenset({'Short', 'No'}), items_add=frozenset({'0', '1'}), confidence=0.857142857142857, lift=1.0452961672473866), OrderedStatistic(items_base=frozenset({'Short', '0', 'No'}), items_add=frozenset({'1'}), confidence=0.857142857142857, lift=1.0327022375215145), OrderedStatistic(items_base=frozenset({'Short', 'No', '1'}), items_add=frozenset({'0'}), confidence=1.0, lift=1.0101010101010102)]),\n",
       " RelationRecord(items=frozenset({'F', 'Yes', '0', 'Long'}), support=0.1, ordered_statistics=[OrderedStatistic(items_base=frozenset({'F', 'Yes', 'Long'}), items_add=frozenset({'0'}), confidence=1.0, lift=1.0101010101010102)]),\n",
       " RelationRecord(items=frozenset({'F', 'Medium', '0', 'No'}), support=0.1, ordered_statistics=[OrderedStatistic(items_base=frozenset({'F', 'Medium', 'No'}), items_add=frozenset({'0'}), confidence=1.0, lift=1.0101010101010102)]),\n",
       " RelationRecord(items=frozenset({'No', '0', 'Long', 'M'}), support=0.16, ordered_statistics=[OrderedStatistic(items_base=frozenset({'No', 'Long', 'M'}), items_add=frozenset({'0'}), confidence=1.0, lift=1.0101010101010102)]),\n",
       " RelationRecord(items=frozenset({'Yes', '0', 'Long', 'M'}), support=0.15, ordered_statistics=[OrderedStatistic(items_base=frozenset({'Yes', 'Long', 'M'}), items_add=frozenset({'0'}), confidence=1.0, lift=1.0101010101010102)]),\n",
       " RelationRecord(items=frozenset({'No', 'Long', 'M', '1'}), support=0.15, ordered_statistics=[OrderedStatistic(items_base=frozenset({'No', 'Long', 'M'}), items_add=frozenset({'1'}), confidence=0.9375, lift=1.1295180722891567)]),\n",
       " RelationRecord(items=frozenset({'0', 'Long', 'No', 'M', '1'}), support=0.15, ordered_statistics=[OrderedStatistic(items_base=frozenset({'No', 'Long', 'M'}), items_add=frozenset({'0', '1'}), confidence=0.9375, lift=1.1432926829268293), OrderedStatistic(items_base=frozenset({'No', '0', 'Long', 'M'}), items_add=frozenset({'1'}), confidence=0.9375, lift=1.1295180722891567), OrderedStatistic(items_base=frozenset({'No', 'Long', 'M', '1'}), items_add=frozenset({'0'}), confidence=1.0, lift=1.0101010101010102)]),\n",
       " RelationRecord(items=frozenset({'0', 'Yes', 'Long', 'M', '1'}), support=0.1, ordered_statistics=[OrderedStatistic(items_base=frozenset({'Yes', 'Long', 'M', '1'}), items_add=frozenset({'0'}), confidence=1.0, lift=1.0101010101010102)])]"
      ]
     },
     "execution_count": 321,
     "metadata": {},
     "output_type": "execute_result"
    }
   ],
   "source": [
    "a_rules1 = apriori(Buffer, min_confidence=0.7, use_colnames=True)\n",
    "a_results1 = list(a_rules1)\n",
    "a_results1"
   ]
  },
  {
   "cell_type": "code",
   "execution_count": 322,
   "metadata": {},
   "outputs": [
    {
     "data": {
      "text/plain": [
       "73"
      ]
     },
     "execution_count": 322,
     "metadata": {},
     "output_type": "execute_result"
    }
   ],
   "source": [
    "len(a_results1)"
   ]
  },
  {
   "cell_type": "code",
   "execution_count": null,
   "metadata": {},
   "outputs": [],
   "source": []
  },
  {
   "cell_type": "code",
   "execution_count": null,
   "metadata": {},
   "outputs": [],
   "source": []
  }
 ],
 "metadata": {
  "kernelspec": {
   "display_name": "Python 3",
   "language": "python",
   "name": "python3"
  },
  "language_info": {
   "codemirror_mode": {
    "name": "ipython",
    "version": 3
   },
   "file_extension": ".py",
   "mimetype": "text/x-python",
   "name": "python",
   "nbconvert_exporter": "python",
   "pygments_lexer": "ipython3",
   "version": "3.8.5"
  }
 },
 "nbformat": 4,
 "nbformat_minor": 4
}
